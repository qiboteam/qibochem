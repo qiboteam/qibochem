{
 "cells": [
  {
   "cell_type": "markdown",
   "id": "60fb2bc5",
   "metadata": {
    "slideshow": {
     "slide_type": "-"
    }
   },
   "source": [
    "# Introduction\n",
    "\n",
    "\n",
    "- Chemistry\n",
    "    - Experiments are expensive and not environmentally friendly\n",
    "- Computational Chemistry:\n",
    "    - Simulate and predict chemical reactions using computers to solve equations from quantum chemistry\n",
    "\n",
    "### Why quantum computing?\n",
    "- Richard Feynman:\n",
    "    - \"Nature isn’t classical, and if you want to make a simulation of Nature, you’d better make it quantum mechanical\"\n",
    "- Examples:\n",
    "    - $N_2$ fixation reactions at less harsh conditions than Haber process (~1% of CO2 emitted)\n",
    "    - Needs multireference methods, but the computational cost of these methods is beyond digital computers"
   ]
  },
  {
   "cell_type": "markdown",
   "id": "bdaa1dad",
   "metadata": {
    "slideshow": {
     "slide_type": "-"
    }
   },
   "source": [
    "## Quantum computing in chemistry:\n",
    "\n",
    "### Noisy intermediate-scale quantum (NISQ) era\n",
    "- Currently, hardware for quantum computing algorithms that can potentially outperform classical computational chemistry is not available\n",
    "    - Quantum phase-estimation (QPE) algorithm:\n",
    "        - In theory: we know the molecular Hamiltonian (see below) exactly\n",
    "        - Hence, can simulate a chemical system directly using a quantum computer\n",
    "    - But not possible in practical terms with current level of quantum hardware\n",
    "\n",
    "\n",
    "### Variational Quantum Eigensolver (VQE) approach\n",
    "- Based on variational theorem (quantum mechanics):\n",
    "    - Exact energy < Approximate energy\n",
    "- Define a loss function (electronic energy), and minimise it\n",
    "    - Combines classical and quantum computing:\n",
    "        - Classical: Optimizers and molecular integrals\n",
    "        - Quantum: Represent the electronic wave function\n",
    "    - 2 main approaches (ansatz):\n",
    "        - Chemistry-based:\n",
    "            - Expensive, need to make cheaper\n",
    "        - Heuristic/Hardware-efficient:\n",
    "            - Cheaper, but often not as reliable and/or efficient\n",
    "- On the whole, circuit depth is significantly reduced compared to QPE"
   ]
  },
  {
   "cell_type": "markdown",
   "id": "1cd14017",
   "metadata": {
    "slideshow": {
     "slide_type": "-"
    }
   },
   "source": [
    "## Introduction to Quantum Chemistry\n",
    "\n",
    "#### Schrodinger equation:\n",
    "\n",
    "$$\n",
    "\\hat{H} \\Psi = E \\Psi\n",
    "$$\n",
    "\n",
    "For fixed set of nuclear coordinates, the electronic Hamiltonian $\\hat{H}$ is\n",
    "\n",
    "$$\n",
    "\\begin{equation}\n",
    "\\hat{H} = \\hat{T}_e + \\hat{V}_{nn} + \\hat{V}_{ne} + \\hat{V}_{ee}\n",
    "\\end{equation}\n",
    "$$\n",
    "\n",
    "$$\n",
    "\\begin{align}\n",
    "\\text{where } T &= \\text{Kinetic energy} \\\\\n",
    "V &= \\text{Electrostatic interaction} \\\\\n",
    "n, e &= \\text{nuclei, electrons}\n",
    "\\end{align}\n",
    "$$\n",
    "\n",
    "- One of the main goals in computational quantum chemistry:\n",
    "    - Solve for $\\Psi$ = Electronic wave function\n",
    "    - Allows us to know everything about our molecule\n",
    "- Problem: Cannot be solved exactly because of electron-electron repulsion\n",
    "- Solve approximately instead:\n",
    "    - Simplify problem using a finite basis set:\n",
    "        - For atoms: Atomic orbitals\n",
    "            - Localised Gaussian-type functions (exp$(-ax^2)$) about each atom in a molecule\n",
    "        - For molecules: Molecular orbitals\n",
    "            - Linear combination of atomic orbitals (LCAO)\n",
    "                - e.g. $H_2\\text{: } \\chi_1 = c_1 \\phi_1 + c_2 \\phi_2$ and $\\chi_2 = c_1 \\phi_1 - c_2 \\phi_2$\n",
    "    - Hartree-Fock method:\n",
    "        - Solve for the LCAO coefficients s.t. the total molecular energy is minimized\n",
    "        - Then 'fill up' the lowest $N_{\\text{e}}$ (= number of electrons) molecular orbitals"
   ]
  },
  {
   "cell_type": "markdown",
   "id": "05736d80",
   "metadata": {
    "slideshow": {
     "slide_type": "-"
    }
   },
   "source": [
    "#### Second quantization formalism\n",
    "- Working in the space of molecular orbitals\n",
    "- Fermionic annihilation/creation operators\n",
    "    - $\\hat{a}_p$/$\\hat{a}_p^\\dagger$: Annihilate/Create electron in molecular orbital $p$\n",
    "\n",
    "\n",
    "Electronic Hamiltonian in this formalism:\n",
    "$$\n",
    "\\hat{H} = \\sum_{p, q} h_{pq} \\hat{a}_p^\\dagger \\hat{a}_q\n",
    "+ \\frac{1}{2} \\sum_{p, q, r, s} h_{pqrs} \\hat{a}_p^\\dagger \\hat{a}_q^\\dagger \\hat{a}_r \\hat{a}_s\n",
    "$$\n",
    "\n",
    "using the molecular integrals, $h_{pq}$ and $h_{pqrs}$\n",
    "\n",
    "$$\n",
    "h_{pq} = \\int \\chi_{p}^{*}(\\mathbf{x}) \\left( -\\frac{\\nabla^2}{2} - \\sum_{A} \\frac{Z_A}{\\lvert \\mathbf{r} - \\mathbf{R}_A \\rvert} \\right) \\chi_{q}(\\mathbf{x}) d\\mathbf{x}\n",
    "$$\n",
    "\n",
    "$$\n",
    "h_{pqrs} = \\int \\frac{\\chi_{p}^{*}(\\mathbf{x}_1) \\chi_{q}^{*}(\\mathbf{x}_2) \\chi_{r}(\\mathbf{x}_2) \\chi_{s}(\\mathbf{x}_1)}{\\lvert \\mathbf{r}_1 - \\mathbf{r}_2 \\rvert} d\\mathbf{x}_1 d\\mathbf{x}_2\n",
    "$$\n",
    "\n",
    "The electronic wave function is then just\n",
    "\n",
    "$$\n",
    "a_{N_e}^\\dagger a_{N_e -1}^\\dagger \\dots a_{2}^\\dagger a_{1}^\\dagger \\lvert 0 \\rangle\n",
    "$$\n",
    "\n",
    "where $\\lvert 0 \\rangle$ is the vacuum state, i.e. a state with no particles"
   ]
  },
  {
   "cell_type": "code",
   "execution_count": 1,
   "id": "666f6e70",
   "metadata": {
    "slideshow": {
     "slide_type": "-"
    }
   },
   "outputs": [],
   "source": [
    "# QChem: Hands-on\n",
    "# Part 1. Setting up and transforming the Chemistry problem to quantum computing\n",
    "\n",
    "# Import required modules\n",
    "import numpy as np\n",
    "\n",
    "# \"OpenFermion is a library for compiling and analyzing quantum algorithms to simulate fermionic systems, \n",
    "# including quantum chemistry\"\n",
    "import openfermion\n",
    "\n",
    "# Molecule class to store the molecular integrals and other relevant quantities\n",
    "from qibochem.driver.molecule import Molecule"
   ]
  },
  {
   "cell_type": "code",
   "execution_count": 2,
   "id": "23dc6c7d",
   "metadata": {
    "slideshow": {
     "slide_type": "-"
    }
   },
   "outputs": [
    {
     "name": "stdout",
     "output_type": "stream",
     "text": [
      "converged SCF energy = -1.11734903499028\n",
      "One- electron integrals for H2:\n",
      "[[-1.27785301e+00 -2.35922393e-16]\n",
      " [-4.44089210e-16 -4.48299696e-01]]\n",
      "\n",
      "Two- electron integrals for H2:\n",
      "[[[[6.82389533e-01 8.32667268e-17]\n",
      "   [1.94289029e-16 1.79000576e-01]]\n",
      "\n",
      "  [[1.94289029e-16 1.79000576e-01]\n",
      "   [6.70732778e-01 3.60822483e-16]]]\n",
      "\n",
      "\n",
      " [[[8.32667268e-17 6.70732778e-01]\n",
      "   [1.79000576e-01 1.94289029e-16]]\n",
      "\n",
      "  [[1.79000576e-01 1.94289029e-16]\n",
      "   [3.60822483e-16 7.05105632e-01]]]]\n"
     ]
    }
   ],
   "source": [
    "# The molecule of interest can be defined using an .xyz file\n",
    "h2 = Molecule(xyz_file='h2.xyz')\n",
    "\n",
    "# Then, run a classical computational chemistry software to obtain the molecular integrals\n",
    "\n",
    "# From their respective manuals:\n",
    "# \"Psi4 is an open-source suite of ab initio quantum chemistry programs\"\n",
    "# h2.run_psi4()\n",
    "h2.run_pyscf() # Probably can't get PySCF on a Windows system so easily...\n",
    "\n",
    "# The one- (oei) and two- (tei) electron integrals are obtained after running the chemistry driver\n",
    "print(\"One- electron integrals for H2:\")\n",
    "print(h2.oei)\n",
    "print()\n",
    "print(\"Two- electron integrals for H2:\")\n",
    "print(h2.tei)"
   ]
  },
  {
   "cell_type": "code",
   "execution_count": 3,
   "id": "09220dcf",
   "metadata": {
    "scrolled": true
   },
   "outputs": [
    {
     "name": "stdout",
     "output_type": "stream",
     "text": [
      "0.7559674441714287 [] +\n",
      "-1.277853006156875 [0^ 0] +\n",
      "0.34119476657602105 [0^ 0^ 0 0] +\n",
      "0.08950028803070331 [0^ 0^ 2 2] +\n",
      "0.34119476657602105 [0^ 1^ 1 0] +\n",
      "0.08950028803070331 [0^ 1^ 3 2] +\n",
      "0.08950028803070331 [0^ 2^ 0 2] +\n",
      "0.33536638915437944 [0^ 2^ 2 0] +\n",
      "0.08950028803070331 [0^ 3^ 1 2] +\n",
      "0.33536638915437944 [0^ 3^ 3 0] +\n",
      "0.34119476657602105 [1^ 0^ 0 1] +\n",
      "0.08950028803070331 [1^ 0^ 2 3] +\n",
      "-1.277853006156875 [1^ 1] +\n",
      "0.34119476657602105 [1^ 1^ 1 1] +\n",
      "0.08950028803070331 [1^ 1^ 3 3] +\n",
      "0.08950028803070331 [1^ 2^ 0 3] +\n",
      "0.33536638915437944 [1^ 2^ 2 1] +\n",
      "0.08950028803070331 [1^ 3^ 1 3] +\n",
      "0.33536638915437944 [1^ 3^ 3 1] +\n",
      "0.3353663891543795 [2^ 0^ 0 2] +\n",
      "0.08950028803070331 [2^ 0^ 2 0] +\n",
      "0.3353663891543795 [2^ 1^ 1 2] +\n",
      "0.08950028803070331 [2^ 1^ 3 0] +\n",
      "-0.448299696101638 [2^ 2] +\n",
      "0.08950028803070331 [2^ 2^ 0 0] +\n",
      "0.35255281608639233 [2^ 2^ 2 2] +\n",
      "0.08950028803070331 [2^ 3^ 1 0] +\n",
      "0.35255281608639233 [2^ 3^ 3 2] +\n",
      "0.3353663891543795 [3^ 0^ 0 3] +\n",
      "0.08950028803070331 [3^ 0^ 2 1] +\n",
      "0.3353663891543795 [3^ 1^ 1 3] +\n",
      "0.08950028803070331 [3^ 1^ 3 1] +\n",
      "0.08950028803070331 [3^ 2^ 0 1] +\n",
      "0.35255281608639233 [3^ 2^ 2 3] +\n",
      "-0.448299696101638 [3^ 3] +\n",
      "0.08950028803070331 [3^ 3^ 1 1] +\n",
      "0.35255281608639233 [3^ 3^ 3 3]\n"
     ]
    }
   ],
   "source": [
    "# With these integrals, we can form the molecular Hamiltonian (see above) as a sum of creation/annihilation operators\n",
    "fermionic_hamiltonian = h2.hamiltonian(\"f\") # OpenFermion InteractionOperator\n",
    "# Convert to an OpenFermion FermionOperator\n",
    "print(fermionic_hamiltonian)"
   ]
  },
  {
   "cell_type": "code",
   "execution_count": 4,
   "id": "2e95386b-2844-4aea-9cc5-2e5f808ce531",
   "metadata": {},
   "outputs": [
    {
     "name": "stdout",
     "output_type": "stream",
     "text": [
      "-0.042078976477821856 [] +\n",
      "-0.044750144015351656 [X0 X1 Y2 Y3] +\n",
      "0.044750144015351656 [X0 Y1 Y2 X3] +\n",
      "0.044750144015351656 [Y0 X1 X2 Y3] +\n",
      "-0.044750144015351656 [Y0 Y1 X2 X3] +\n",
      "0.17771287465139907 [Z0] +\n",
      "0.17059738328801052 [Z0 Z1] +\n",
      "0.12293305056183809 [Z0 Z2] +\n",
      "0.16768319457718972 [Z0 Z3] +\n",
      "0.1777128746513991 [Z1] +\n",
      "0.16768319457718972 [Z1 Z2] +\n",
      "0.12293305056183809 [Z1 Z3] +\n",
      "-0.24274280513140498 [Z2] +\n",
      "0.17627640804319616 [Z2 Z3] +\n",
      "-0.24274280513140498 [Z3]\n"
     ]
    }
   ],
   "source": [
    "qubit_hamiltonian = h2.hamiltonian(\"q\")\n",
    "print(qubit_hamiltonian)"
   ]
  },
  {
   "cell_type": "markdown",
   "id": "79c24453",
   "metadata": {
    "slideshow": {
     "slide_type": "-"
    }
   },
   "source": [
    "## Quantum computing applied to Chemistry\n",
    "\n",
    "\n",
    "### Fermion-to-Qubit Transformation\n",
    "\n",
    "Lastly, the Chemistry (fermionic) problem has to be mapped onto a (qubit) problem that can be modelled using a quantum computer\n",
    "\n",
    "E.g. Jordan-Wigner transformation:\n",
    "\n",
    "$$\\text{Annihilation, } \\hat{a}_p \\rightarrow \\hat{Z}^{\\otimes p} \\otimes \\frac{1}{2} (\\hat{X} + i\\hat{Y}) \\otimes 1^{\\otimes N_{qubits} -p-1}$$\n",
    "\n",
    "$$\\text{Creation, } \\hat{a}_p^\\dagger \\rightarrow \\hat{Z}^{\\otimes p} \\otimes \\frac{1}{2} (\\hat{X} - i\\hat{Y}) \\otimes 1^{\\otimes N_{qubits} -i-1}$$\n",
    "\n",
    "Note: In this mapping, each molecular orbital has a one-to-one mapping to a qubit, i.e. the $Z$-measurement of a qubit gives the occupancy of its associated molecular orbital directly."
   ]
  },
  {
   "cell_type": "code",
   "execution_count": null,
   "id": "a7d0abbe",
   "metadata": {},
   "outputs": [],
   "source": [
    "# Apply the Jordan-Wigner transformation to the molecular Hamiltonian\n",
    "jw_mol_hamiltonian = openfermion.jordan_wigner(fermionic_hamiltonian)\n",
    "print(jw_mol_hamiltonian)"
   ]
  },
  {
   "cell_type": "markdown",
   "id": "f8714305",
   "metadata": {
    "slideshow": {
     "slide_type": "-"
    }
   },
   "source": [
    "### Measurements to calculate the energy expectation value\n",
    "\n",
    "- To get the energy of our $H_2$ molecule:\n",
    "    - Need to measure the terms in the above cell, such as $0.1771\\dots Z_0$ and $0.1705\\dots Z_0 Z_1$\n",
    "    - For X/Y measurements:\n",
    "        - Basis rotation gates have to be applied before measuring the output of the circuit\n",
    "- Because of errors in running the quantum circuit:\n",
    "    - Measurement of each Pauli string has to be repeated numerous times\n",
    "- Expectation value of a Pauli string:\n",
    "    - Average value over all measurements\n",
    "- Total molecular energy:\n",
    "    - Sum of expectation values of all Pauli strings defining the qubit molecular Hamiltonian"
   ]
  },
  {
   "cell_type": "code",
   "execution_count": 5,
   "id": "aa775acc",
   "metadata": {},
   "outputs": [],
   "source": [
    "from qibo import models, gates\n",
    "\n",
    "# from qibochem.measurement.expectation import pauli_expectation_shots, circuit_expectation_shots"
   ]
  },
  {
   "cell_type": "code",
   "execution_count": 6,
   "id": "56c7c092",
   "metadata": {},
   "outputs": [
    {
     "name": "stdout",
     "output_type": "stream",
     "text": [
      "q0: ─\n",
      "q1: ─\n",
      "q2: ─\n",
      "q3: ─\n"
     ]
    }
   ],
   "source": [
    "# Example: the 0.1777 Z0 term for H2\n",
    "\n",
    "# First, we build a basic quantum circuit with 4 (= number of spin-orbitals, nso) qubits\n",
    "circuit = models.Circuit(h2.nso)\n",
    "print(circuit.draw())"
   ]
  },
  {
   "cell_type": "markdown",
   "id": "f8c091da",
   "metadata": {},
   "source": [
    "In the Jordan-Wigner mapping, each qubit represents the occupancy of a molecular spin-orbital.\n",
    "The empty circuit with no gates is then simply just the vacuum state.\n",
    "Despite that, we can still obtain the expectation value of a Pauli string for this simple circuit, as shown below."
   ]
  },
  {
   "cell_type": "code",
   "execution_count": 10,
   "id": "97f05c26-235e-4774-ba79-cded9d789eed",
   "metadata": {},
   "outputs": [],
   "source": [
    "from qibochem.measurement.expectation import expectation\n",
    "\n",
    "from qibochem.driver.hamiltonian import symbolic_hamiltonian"
   ]
  },
  {
   "cell_type": "code",
   "execution_count": 11,
   "id": "62060716",
   "metadata": {},
   "outputs": [
    {
     "name": "stderr",
     "output_type": "stream",
     "text": [
      "[Qibo 0.2.2|INFO|2023-11-23 10:16:40]: Using numpy backend on /CPU:0\n"
     ]
    },
    {
     "name": "stdout",
     "output_type": "stream",
     "text": [
      "q0: ─M─\n",
      "q1: ───\n",
      "q2: ───\n",
      "q3: ───\n",
      "\n",
      "Term: 0.1777 [Z0]\n",
      "\n"
     ]
    },
    {
     "ename": "ValueError",
     "evalue": "axes don't match array",
     "output_type": "error",
     "traceback": [
      "\u001b[0;31m---------------------------------------------------------------------------\u001b[0m",
      "\u001b[0;31mValueError\u001b[0m                                Traceback (most recent call last)",
      "Cell \u001b[0;32mIn[11], line 11\u001b[0m\n\u001b[1;32m      7\u001b[0m \u001b[38;5;28mprint\u001b[39m(\u001b[38;5;124mf\u001b[39m\u001b[38;5;124m\"\u001b[39m\u001b[38;5;130;01m\\n\u001b[39;00m\u001b[38;5;124mTerm: \u001b[39m\u001b[38;5;132;01m{\u001b[39;00mz0_qubit_operator\u001b[38;5;132;01m}\u001b[39;00m\u001b[38;5;130;01m\\n\u001b[39;00m\u001b[38;5;124m\"\u001b[39m)\n\u001b[1;32m      9\u001b[0m \u001b[38;5;66;03m# The pauli_expectation_shots(circuit, nshots) helper function runs and measures the output of circuit nshots times\u001b[39;00m\n\u001b[1;32m     10\u001b[0m \u001b[38;5;66;03m# Since we're looking at the Z0 term, there's no need to apply any basis rotation gates before measurement\u001b[39;00m\n\u001b[0;32m---> 11\u001b[0m z0_expectation_value \u001b[38;5;241m=\u001b[39m \u001b[43mexpectation\u001b[49m\u001b[43m(\u001b[49m\u001b[43mcircuit\u001b[49m\u001b[43m,\u001b[49m\u001b[43m \u001b[49m\u001b[43msymbolic_hamiltonian\u001b[49m\u001b[43m(\u001b[49m\u001b[43mz0_qubit_operator\u001b[49m\u001b[43m)\u001b[49m\u001b[43m,\u001b[49m\u001b[43m \u001b[49m\u001b[43mfrom_samples\u001b[49m\u001b[38;5;241;43m=\u001b[39;49m\u001b[38;5;28;43;01mTrue\u001b[39;49;00m\u001b[43m,\u001b[49m\u001b[43m \u001b[49m\u001b[43mn_shots\u001b[49m\u001b[38;5;241;43m=\u001b[39;49m\u001b[38;5;241;43m100\u001b[39;49m\u001b[43m)\u001b[49m\n\u001b[1;32m     12\u001b[0m \u001b[38;5;28mprint\u001b[39m(\u001b[38;5;124mf\u001b[39m\u001b[38;5;124m\"\u001b[39m\u001b[38;5;124mExpectation value: \u001b[39m\u001b[38;5;132;01m{\u001b[39;00mz0_expectation_value\u001b[38;5;132;01m}\u001b[39;00m\u001b[38;5;124m\"\u001b[39m)\n",
      "File \u001b[0;32m~/miniforge3/envs/qibochem/lib/python3.11/site-packages/qibochem/measurement/expectation.py:36\u001b[0m, in \u001b[0;36mexpectation\u001b[0;34m(circuit, hamiltonian, from_samples, n_shots)\u001b[0m\n\u001b[1;32m     34\u001b[0m _circuit \u001b[38;5;241m=\u001b[39m circuit\u001b[38;5;241m.\u001b[39mcopy()\n\u001b[1;32m     35\u001b[0m _circuit\u001b[38;5;241m.\u001b[39madd(gates\u001b[38;5;241m.\u001b[39mM(\u001b[38;5;241m*\u001b[39mqubits, basis\u001b[38;5;241m=\u001b[39mbasis))\n\u001b[0;32m---> 36\u001b[0m result \u001b[38;5;241m=\u001b[39m \u001b[43m_circuit\u001b[49m\u001b[43m(\u001b[49m\u001b[43mnshots\u001b[49m\u001b[38;5;241;43m=\u001b[39;49m\u001b[43mn_shots\u001b[49m\u001b[43m)\u001b[49m\n\u001b[1;32m     37\u001b[0m frequencies \u001b[38;5;241m=\u001b[39m result\u001b[38;5;241m.\u001b[39mfrequencies(binary\u001b[38;5;241m=\u001b[39m\u001b[38;5;28;01mTrue\u001b[39;00m)\n\u001b[1;32m     38\u001b[0m \u001b[38;5;66;03m# Only works for Z terms, raises an error if ham_term has X/Y terms\u001b[39;00m\n\u001b[1;32m     39\u001b[0m \u001b[38;5;66;03m# total += SymbolicHamiltonian(\u001b[39;00m\n\u001b[1;32m     40\u001b[0m \u001b[38;5;66;03m#              reduce(lambda x, y: x*y, term.factors, 1)\u001b[39;00m\n\u001b[1;32m     41\u001b[0m \u001b[38;5;66;03m#          ).expectation_from_samples(frequencies, qubit_map=qubits)\u001b[39;00m\n\u001b[1;32m     42\u001b[0m \u001b[38;5;66;03m# Workaround code to handle X/Y terms in the Hamiltonian:\u001b[39;00m\n\u001b[1;32m     43\u001b[0m \u001b[38;5;66;03m# Get each Pauli string e.g. X0Y1\u001b[39;00m\n",
      "File \u001b[0;32m~/miniforge3/envs/qibochem/lib/python3.11/site-packages/qibo/models/circuit.py:1031\u001b[0m, in \u001b[0;36mCircuit.__call__\u001b[0;34m(self, initial_state, nshots)\u001b[0m\n\u001b[1;32m   1029\u001b[0m \u001b[38;5;28;01mdef\u001b[39;00m \u001b[38;5;21m__call__\u001b[39m(\u001b[38;5;28mself\u001b[39m, initial_state\u001b[38;5;241m=\u001b[39m\u001b[38;5;28;01mNone\u001b[39;00m, nshots\u001b[38;5;241m=\u001b[39m\u001b[38;5;241m1000\u001b[39m):\n\u001b[1;32m   1030\u001b[0m \u001b[38;5;250m    \u001b[39m\u001b[38;5;124;03m\"\"\"Equivalent to ``circuit.execute``.\"\"\"\u001b[39;00m\n\u001b[0;32m-> 1031\u001b[0m     \u001b[38;5;28;01mreturn\u001b[39;00m \u001b[38;5;28;43mself\u001b[39;49m\u001b[38;5;241;43m.\u001b[39;49m\u001b[43mexecute\u001b[49m\u001b[43m(\u001b[49m\u001b[43minitial_state\u001b[49m\u001b[38;5;241;43m=\u001b[39;49m\u001b[43minitial_state\u001b[49m\u001b[43m,\u001b[49m\u001b[43m \u001b[49m\u001b[43mnshots\u001b[49m\u001b[38;5;241;43m=\u001b[39;49m\u001b[43mnshots\u001b[49m\u001b[43m)\u001b[49m\n",
      "File \u001b[0;32m~/miniforge3/envs/qibochem/lib/python3.11/site-packages/qibo/models/circuit.py:1027\u001b[0m, in \u001b[0;36mCircuit.execute\u001b[0;34m(self, initial_state, nshots)\u001b[0m\n\u001b[1;32m   1023\u001b[0m     \u001b[38;5;28;01mreturn\u001b[39;00m GlobalBackend()\u001b[38;5;241m.\u001b[39mexecute_distributed_circuit(\n\u001b[1;32m   1024\u001b[0m         \u001b[38;5;28mself\u001b[39m, initial_state, nshots\n\u001b[1;32m   1025\u001b[0m     )\n\u001b[1;32m   1026\u001b[0m \u001b[38;5;28;01melse\u001b[39;00m:\n\u001b[0;32m-> 1027\u001b[0m     \u001b[38;5;28;01mreturn\u001b[39;00m \u001b[43mGlobalBackend\u001b[49m\u001b[43m(\u001b[49m\u001b[43m)\u001b[49m\u001b[38;5;241;43m.\u001b[39;49m\u001b[43mexecute_circuit\u001b[49m\u001b[43m(\u001b[49m\u001b[38;5;28;43mself\u001b[39;49m\u001b[43m,\u001b[49m\u001b[43m \u001b[49m\u001b[43minitial_state\u001b[49m\u001b[43m,\u001b[49m\u001b[43m \u001b[49m\u001b[43mnshots\u001b[49m\u001b[43m)\u001b[49m\n",
      "File \u001b[0;32m~/miniforge3/envs/qibochem/lib/python3.11/site-packages/qibo/backends/numpy.py:438\u001b[0m, in \u001b[0;36mNumpyBackend.execute_circuit\u001b[0;34m(self, circuit, initial_state, nshots)\u001b[0m\n\u001b[1;32m    436\u001b[0m \u001b[38;5;28;01melse\u001b[39;00m:\n\u001b[1;32m    437\u001b[0m     \u001b[38;5;28;01mif\u001b[39;00m circuit\u001b[38;5;241m.\u001b[39mmeasurements:\n\u001b[0;32m--> 438\u001b[0m         circuit\u001b[38;5;241m.\u001b[39m_final_state \u001b[38;5;241m=\u001b[39m \u001b[43mCircuitResult\u001b[49m\u001b[43m(\u001b[49m\n\u001b[1;32m    439\u001b[0m \u001b[43m            \u001b[49m\u001b[43mstate\u001b[49m\u001b[43m,\u001b[49m\u001b[43m \u001b[49m\u001b[43mcircuit\u001b[49m\u001b[38;5;241;43m.\u001b[39;49m\u001b[43mmeasurements\u001b[49m\u001b[43m,\u001b[49m\u001b[43m \u001b[49m\u001b[38;5;28;43mself\u001b[39;49m\u001b[43m,\u001b[49m\u001b[43m \u001b[49m\u001b[43mnshots\u001b[49m\u001b[38;5;241;43m=\u001b[39;49m\u001b[43mnshots\u001b[49m\n\u001b[1;32m    440\u001b[0m \u001b[43m        \u001b[49m\u001b[43m)\u001b[49m\n\u001b[1;32m    441\u001b[0m         \u001b[38;5;28;01mreturn\u001b[39;00m circuit\u001b[38;5;241m.\u001b[39m_final_state\n\u001b[1;32m    442\u001b[0m     \u001b[38;5;28;01melse\u001b[39;00m:\n",
      "File \u001b[0;32m~/miniforge3/envs/qibochem/lib/python3.11/site-packages/qibo/result.py:407\u001b[0m, in \u001b[0;36mCircuitResult.__init__\u001b[0;34m(self, final_state, measurements, backend, samples, nshots)\u001b[0m\n\u001b[1;32m    403\u001b[0m \u001b[38;5;28;01mif\u001b[39;00m \u001b[38;5;28mlen\u001b[39m(qubits) \u001b[38;5;241m==\u001b[39m \u001b[38;5;241m0\u001b[39m:\n\u001b[1;32m    404\u001b[0m     \u001b[38;5;28;01mraise\u001b[39;00m \u001b[38;5;167;01mValueError\u001b[39;00m(\n\u001b[1;32m    405\u001b[0m         \u001b[38;5;124m\"\u001b[39m\u001b[38;5;124mCircuit does not contain measurements. Use a `QuantumState` instead.\u001b[39m\u001b[38;5;124m\"\u001b[39m\n\u001b[1;32m    406\u001b[0m     )\n\u001b[0;32m--> 407\u001b[0m probs \u001b[38;5;241m=\u001b[39m \u001b[38;5;28;43mself\u001b[39;49m\u001b[38;5;241;43m.\u001b[39;49m\u001b[43mprobabilities\u001b[49m\u001b[43m(\u001b[49m\u001b[43mqubits\u001b[49m\u001b[43m)\u001b[49m \u001b[38;5;28;01mif\u001b[39;00m samples \u001b[38;5;129;01mis\u001b[39;00m \u001b[38;5;28;01mNone\u001b[39;00m \u001b[38;5;28;01melse\u001b[39;00m \u001b[38;5;28;01mNone\u001b[39;00m\n\u001b[1;32m    408\u001b[0m MeasurementOutcomes\u001b[38;5;241m.\u001b[39m\u001b[38;5;21m__init__\u001b[39m(\n\u001b[1;32m    409\u001b[0m     \u001b[38;5;28mself\u001b[39m,\n\u001b[1;32m    410\u001b[0m     measurements,\n\u001b[0;32m   (...)\u001b[0m\n\u001b[1;32m    414\u001b[0m     nshots\u001b[38;5;241m=\u001b[39mnshots,\n\u001b[1;32m    415\u001b[0m )\n",
      "File \u001b[0;32m~/miniforge3/envs/qibochem/lib/python3.11/site-packages/qibo/result.py:93\u001b[0m, in \u001b[0;36mQuantumState.probabilities\u001b[0;34m(self, qubits)\u001b[0m\n\u001b[1;32m     89\u001b[0m     \u001b[38;5;28;01mreturn\u001b[39;00m \u001b[38;5;28mself\u001b[39m\u001b[38;5;241m.\u001b[39mbackend\u001b[38;5;241m.\u001b[39mcalculate_probabilities_density_matrix(\n\u001b[1;32m     90\u001b[0m         \u001b[38;5;28mself\u001b[39m\u001b[38;5;241m.\u001b[39m_state, qubits, \u001b[38;5;28mself\u001b[39m\u001b[38;5;241m.\u001b[39mnqubits\n\u001b[1;32m     91\u001b[0m     )\n\u001b[1;32m     92\u001b[0m \u001b[38;5;28;01melse\u001b[39;00m:\n\u001b[0;32m---> 93\u001b[0m     \u001b[38;5;28;01mreturn\u001b[39;00m \u001b[38;5;28;43mself\u001b[39;49m\u001b[38;5;241;43m.\u001b[39;49m\u001b[43mbackend\u001b[49m\u001b[38;5;241;43m.\u001b[39;49m\u001b[43mcalculate_probabilities\u001b[49m\u001b[43m(\u001b[49m\n\u001b[1;32m     94\u001b[0m \u001b[43m        \u001b[49m\u001b[38;5;28;43mself\u001b[39;49m\u001b[38;5;241;43m.\u001b[39;49m\u001b[43m_state\u001b[49m\u001b[43m,\u001b[49m\u001b[43m \u001b[49m\u001b[43mqubits\u001b[49m\u001b[43m,\u001b[49m\u001b[43m \u001b[49m\u001b[38;5;28;43mself\u001b[39;49m\u001b[38;5;241;43m.\u001b[39;49m\u001b[43mnqubits\u001b[49m\n\u001b[1;32m     95\u001b[0m \u001b[43m    \u001b[49m\u001b[43m)\u001b[49m\n",
      "File \u001b[0;32m~/miniforge3/envs/qibochem/lib/python3.11/site-packages/qibo/backends/numpy.py:608\u001b[0m, in \u001b[0;36mNumpyBackend.calculate_probabilities\u001b[0;34m(self, state, qubits, nqubits)\u001b[0m\n\u001b[1;32m    606\u001b[0m state \u001b[38;5;241m=\u001b[39m \u001b[38;5;28mself\u001b[39m\u001b[38;5;241m.\u001b[39mnp\u001b[38;5;241m.\u001b[39mreshape(\u001b[38;5;28mself\u001b[39m\u001b[38;5;241m.\u001b[39mnp\u001b[38;5;241m.\u001b[39mabs(state) \u001b[38;5;241m*\u001b[39m\u001b[38;5;241m*\u001b[39m \u001b[38;5;241m2\u001b[39m, nqubits \u001b[38;5;241m*\u001b[39m (\u001b[38;5;241m2\u001b[39m,))\n\u001b[1;32m    607\u001b[0m probs \u001b[38;5;241m=\u001b[39m \u001b[38;5;28mself\u001b[39m\u001b[38;5;241m.\u001b[39mnp\u001b[38;5;241m.\u001b[39msum(state\u001b[38;5;241m.\u001b[39mastype(rtype), axis\u001b[38;5;241m=\u001b[39munmeasured_qubits)\n\u001b[0;32m--> 608\u001b[0m \u001b[38;5;28;01mreturn\u001b[39;00m \u001b[38;5;28;43mself\u001b[39;49m\u001b[38;5;241;43m.\u001b[39;49m\u001b[43m_order_probabilities\u001b[49m\u001b[43m(\u001b[49m\u001b[43mprobs\u001b[49m\u001b[43m,\u001b[49m\u001b[43m \u001b[49m\u001b[43mqubits\u001b[49m\u001b[43m,\u001b[49m\u001b[43m \u001b[49m\u001b[43mnqubits\u001b[49m\u001b[43m)\u001b[49m\u001b[38;5;241m.\u001b[39mravel()\n",
      "File \u001b[0;32m~/miniforge3/envs/qibochem/lib/python3.11/site-packages/qibo/backends/numpy.py:601\u001b[0m, in \u001b[0;36mNumpyBackend._order_probabilities\u001b[0;34m(self, probs, qubits, nqubits)\u001b[0m\n\u001b[1;32m    599\u001b[0m     \u001b[38;5;28;01melse\u001b[39;00m:\n\u001b[1;32m    600\u001b[0m         unmeasured\u001b[38;5;241m.\u001b[39mappend(i)\n\u001b[0;32m--> 601\u001b[0m \u001b[38;5;28;01mreturn\u001b[39;00m \u001b[38;5;28;43mself\u001b[39;49m\u001b[38;5;241;43m.\u001b[39;49m\u001b[43mnp\u001b[49m\u001b[38;5;241;43m.\u001b[39;49m\u001b[43mtranspose\u001b[49m\u001b[43m(\u001b[49m\u001b[43mprobs\u001b[49m\u001b[43m,\u001b[49m\u001b[43m \u001b[49m\u001b[43m[\u001b[49m\u001b[43mreduced\u001b[49m\u001b[38;5;241;43m.\u001b[39;49m\u001b[43mget\u001b[49m\u001b[43m(\u001b[49m\u001b[43mi\u001b[49m\u001b[43m)\u001b[49m\u001b[43m \u001b[49m\u001b[38;5;28;43;01mfor\u001b[39;49;00m\u001b[43m \u001b[49m\u001b[43mi\u001b[49m\u001b[43m \u001b[49m\u001b[38;5;129;43;01min\u001b[39;49;00m\u001b[43m \u001b[49m\u001b[43mqubits\u001b[49m\u001b[43m]\u001b[49m\u001b[43m)\u001b[49m\n",
      "File \u001b[0;32m~/miniforge3/envs/qibochem/lib/python3.11/site-packages/numpy/core/fromnumeric.py:655\u001b[0m, in \u001b[0;36mtranspose\u001b[0;34m(a, axes)\u001b[0m\n\u001b[1;32m    588\u001b[0m \u001b[38;5;129m@array_function_dispatch\u001b[39m(_transpose_dispatcher)\n\u001b[1;32m    589\u001b[0m \u001b[38;5;28;01mdef\u001b[39;00m \u001b[38;5;21mtranspose\u001b[39m(a, axes\u001b[38;5;241m=\u001b[39m\u001b[38;5;28;01mNone\u001b[39;00m):\n\u001b[1;32m    590\u001b[0m \u001b[38;5;250m    \u001b[39m\u001b[38;5;124;03m\"\"\"\u001b[39;00m\n\u001b[1;32m    591\u001b[0m \u001b[38;5;124;03m    Returns an array with axes transposed.\u001b[39;00m\n\u001b[1;32m    592\u001b[0m \n\u001b[0;32m   (...)\u001b[0m\n\u001b[1;32m    653\u001b[0m \n\u001b[1;32m    654\u001b[0m \u001b[38;5;124;03m    \"\"\"\u001b[39;00m\n\u001b[0;32m--> 655\u001b[0m     \u001b[38;5;28;01mreturn\u001b[39;00m \u001b[43m_wrapfunc\u001b[49m\u001b[43m(\u001b[49m\u001b[43ma\u001b[49m\u001b[43m,\u001b[49m\u001b[43m \u001b[49m\u001b[38;5;124;43m'\u001b[39;49m\u001b[38;5;124;43mtranspose\u001b[39;49m\u001b[38;5;124;43m'\u001b[39;49m\u001b[43m,\u001b[49m\u001b[43m \u001b[49m\u001b[43maxes\u001b[49m\u001b[43m)\u001b[49m\n",
      "File \u001b[0;32m~/miniforge3/envs/qibochem/lib/python3.11/site-packages/numpy/core/fromnumeric.py:59\u001b[0m, in \u001b[0;36m_wrapfunc\u001b[0;34m(obj, method, *args, **kwds)\u001b[0m\n\u001b[1;32m     56\u001b[0m     \u001b[38;5;28;01mreturn\u001b[39;00m _wrapit(obj, method, \u001b[38;5;241m*\u001b[39margs, \u001b[38;5;241m*\u001b[39m\u001b[38;5;241m*\u001b[39mkwds)\n\u001b[1;32m     58\u001b[0m \u001b[38;5;28;01mtry\u001b[39;00m:\n\u001b[0;32m---> 59\u001b[0m     \u001b[38;5;28;01mreturn\u001b[39;00m \u001b[43mbound\u001b[49m\u001b[43m(\u001b[49m\u001b[38;5;241;43m*\u001b[39;49m\u001b[43margs\u001b[49m\u001b[43m,\u001b[49m\u001b[43m \u001b[49m\u001b[38;5;241;43m*\u001b[39;49m\u001b[38;5;241;43m*\u001b[39;49m\u001b[43mkwds\u001b[49m\u001b[43m)\u001b[49m\n\u001b[1;32m     60\u001b[0m \u001b[38;5;28;01mexcept\u001b[39;00m \u001b[38;5;167;01mTypeError\u001b[39;00m:\n\u001b[1;32m     61\u001b[0m     \u001b[38;5;66;03m# A TypeError occurs if the object does have such a method in its\u001b[39;00m\n\u001b[1;32m     62\u001b[0m     \u001b[38;5;66;03m# class, but its signature is not identical to that of NumPy's. This\u001b[39;00m\n\u001b[0;32m   (...)\u001b[0m\n\u001b[1;32m     66\u001b[0m     \u001b[38;5;66;03m# Call _wrapit from within the except clause to ensure a potential\u001b[39;00m\n\u001b[1;32m     67\u001b[0m     \u001b[38;5;66;03m# exception has a traceback chain.\u001b[39;00m\n\u001b[1;32m     68\u001b[0m     \u001b[38;5;28;01mreturn\u001b[39;00m _wrapit(obj, method, \u001b[38;5;241m*\u001b[39margs, \u001b[38;5;241m*\u001b[39m\u001b[38;5;241m*\u001b[39mkwds)\n",
      "\u001b[0;31mValueError\u001b[0m: axes don't match array"
     ]
    }
   ],
   "source": [
    "circuit = models.Circuit(h2.nso)\n",
    "circuit.add(gates.M(0)) # Add a measurement gate to measure Z\n",
    "print(circuit.draw())\n",
    "\n",
    "# Define the Z0 QubitOperator  \n",
    "z0_qubit_operator = openfermion.QubitOperator('Z0', 0.1777)\n",
    "print(f\"\\nTerm: {z0_qubit_operator}\\n\")\n",
    "\n",
    "# The pauli_expectation_shots(circuit, nshots) helper function runs and measures the output of circuit nshots times\n",
    "# Since we're looking at the Z0 term, there's no need to apply any basis rotation gates before measurement\n",
    "z0_expectation_value = expectation(circuit, symbolic_hamiltonian(z0_qubit_operator), from_samples=True, n_shots=100)\n",
    "print(f\"Expectation value: {z0_expectation_value}\")"
   ]
  },
  {
   "cell_type": "markdown",
   "id": "b7bbfb01",
   "metadata": {},
   "source": [
    "Note: pauli_expectation_shots just gives the measurement directly, which is just equal to 1.0 for a circuit with no gates applied"
   ]
  },
  {
   "cell_type": "code",
   "execution_count": null,
   "id": "6da41b20",
   "metadata": {},
   "outputs": [],
   "source": [
    "# The circuit_expectation_shots(circuit, QubitOperator, nshots) helper function can be used to get the expectation value\n",
    "# of a QubitOperator, including its coefficient, directly\n",
    "\n",
    "circuit = models.Circuit(h2.nso)\n",
    "\n",
    "circuit_expectation = circuit_expectation_shots(circuit, z0_qubit_operator, 100)\n",
    "print(f\"Expectation value: {circuit_expectation}\")"
   ]
  },
  {
   "cell_type": "markdown",
   "id": "284919c2",
   "metadata": {
    "slideshow": {
     "slide_type": "slide"
    }
   },
   "source": [
    "### Simulated quantum circuits\n",
    "\n",
    "- Since our simulated quantum circuit doesn't have any noise, the expectation value of the Pauli string is exactly 0.1777.\n",
    "- Furthermore, since we're using a simulated quantum circuit here, we can obtain the exact state of the 'qubit wave function' for the circuit\n",
    "    - The state vector of the circuit can be used with the qubit Hamiltonian directly to calculate the expectation value of a Pauli string, and by extension, the qubit molecular Hamiltonian"
   ]
  },
  {
   "cell_type": "code",
   "execution_count": 12,
   "id": "a768ef54",
   "metadata": {},
   "outputs": [
    {
     "name": "stdout",
     "output_type": "stream",
     "text": [
      "Expectation value: 0.1777\n"
     ]
    }
   ],
   "source": [
    "# The same 0.1777 Z0 term, using the circuit state vector:\n",
    "# Note: We need to broadcast the SymbolicHamiltonian using I (I as in identity) terms to match 4 qubits\n",
    "# We use qibo.symbols here because openfermion.QubitOperator doesn't have I\n",
    "from qibo.symbols import I, Z\n",
    "from qibo.hamiltonians import SymbolicHamiltonian\n",
    "\n",
    "# The broadcasted Z_0 term using qibo.symbol\n",
    "z0_qubit_operator_broadcasted = 0.1777*Z(0)*I(1)*I(2)*I(3)\n",
    "# Convert it to a Qibo SymbolicHamiltonian\n",
    "z0_symbolic = SymbolicHamiltonian(z0_qubit_operator_broadcasted)\n",
    "\n",
    "# Build and run the simulated circuit to obtain its state vector\n",
    "circuit = models.Circuit(h2.nso)\n",
    "circuit_result = circuit(nshots=1)\n",
    "circuit_state = circuit_result.state()\n",
    "# Calculate the expectation value using the state vector\n",
    "z0_expectation_value = z0_symbolic.expectation(circuit_state)\n",
    "\n",
    "print(f\"Expectation value: {z0_expectation_value}\")"
   ]
  },
  {
   "cell_type": "code",
   "execution_count": 15,
   "id": "eb2de81a",
   "metadata": {},
   "outputs": [
    {
     "name": "stdout",
     "output_type": "stream",
     "text": [
      "Expectation value: 0.7559674441714287\n"
     ]
    }
   ],
   "source": [
    "# Note: Helper function in Molecule class for expectation values\n",
    "# TODO: Might change in next version of Qibo (0.1.12)\n",
    "\n",
    "# Using the broadcasted SymbolicHamiltonian\n",
    "circuit = models.Circuit(h2.nso)\n",
    "print(f\"Expectation value: {expectation(circuit, h2.hamiltonian())}\")"
   ]
  },
  {
   "cell_type": "markdown",
   "id": "7af310f7",
   "metadata": {},
   "source": [
    "Going forward, we will just use the expectation value of the molecular Hamiltonian, obtained using the simulated state vector, for convenience."
   ]
  },
  {
   "cell_type": "code",
   "execution_count": 28,
   "id": "1f191390",
   "metadata": {},
   "outputs": [
    {
     "name": "stdout",
     "output_type": "stream",
     "text": [
      " Electronic energy of vacuum state: 0.7559674441714287\n",
      "(Same as) Nuclear repulsion energy: 0.7559674441714287\n"
     ]
    }
   ],
   "source": [
    "# Example: Electronic energy of the vacuum state\n",
    "circuit = models.Circuit(h2.nso)\n",
    "\n",
    "# Get the molecular Hamiltonian, and convert it to a SymbolicHamiltonian\n",
    "hamiltonian = h2.hamiltonian()\n",
    "\n",
    "print(f\" Electronic energy of vacuum state: {expectation(circuit, hamiltonian)}\")\n",
    "\n",
    "# Since there are no electrons, the electronic energy just consists of the nuclear repulsion energy\n",
    "print(f\"(Same as) Nuclear repulsion energy: {h2.e_nuc}\")"
   ]
  },
  {
   "cell_type": "markdown",
   "id": "d076f954",
   "metadata": {},
   "source": [
    "## VQE: Ansatz representing the molecular wave function\n",
    "\n",
    "We have shown above how to calculate the molecular electronic energy from a quantum circuit.\n",
    "The next step is to use a parametrized quantum circuit to model the electronic wave function of the molecule, i.e. the circuit ansatz.\n",
    "The aim of VQE is thus to minimise the electronic energy with respect to the parameters of the circuit ansatz.\n",
    "\n",
    "Here, we will use the [hardware-efficient ansatz](https://www.nature.com/articles/nature23879) to represent the wave function of the $H_2$ molecule.\n",
    "Note: it's actually possible to use symmetry to further reduce the number of qubits needed to just 2, but we will stick to using the one-to-one Jordan-Wigner mapping of a spin-orbital to a qubit directly for clarity in this example)"
   ]
  },
  {
   "cell_type": "code",
   "execution_count": 17,
   "id": "bf4af1cd",
   "metadata": {},
   "outputs": [],
   "source": [
    "from qibochem.ansatz.hardware_efficient import hea"
   ]
  },
  {
   "cell_type": "code",
   "execution_count": 20,
   "id": "fa1a290b-b1a5-4772-8bbb-74c3900b477c",
   "metadata": {},
   "outputs": [
    {
     "name": "stdout",
     "output_type": "stream",
     "text": [
      "Help on function hea in module qibochem.ansatz.hardware_efficient:\n",
      "\n",
      "hea(n_layers, n_qubits, parameter_gates=['RY', 'RZ'], coupling_gates='CZ')\n",
      "    Builds the generalized hardware-efficient ansatz, in which the rotation and entangling gates used can be\n",
      "    chosen by the user\n",
      "    \n",
      "    Args:\n",
      "        n_layers: Number of layers of rotation and entangling gates\n",
      "        n_qubits: Number of qubits in the quantum circuit\n",
      "        parameter_gates: List of single-qubit rotation gates to be used in the ansatz. The gates should be given as\n",
      "            strings representing valid ``Qibo`` one-qubit gates. Default: ``[\"RY\", \"RZ\"]``\n",
      "        coupling_gates: String representing the two-qubit entangling gate to be used in the ansatz; should be a\n",
      "            valid two-qubit ``Qibo`` gate. Default: ``\"CZ\"``\n",
      "    \n",
      "    Returns:\n",
      "        List of gates corresponding to the hardware-efficient ansatz\n",
      "\n"
     ]
    }
   ],
   "source": [
    "help(hea)"
   ]
  },
  {
   "cell_type": "code",
   "execution_count": 30,
   "id": "aa9fe771",
   "metadata": {
    "slideshow": {
     "slide_type": "-"
    }
   },
   "outputs": [
    {
     "name": "stdout",
     "output_type": "stream",
     "text": [
      "q0: ─RY─RZ─o─────X─\n",
      "q1: ─RY─RZ─X─o───|─\n",
      "q2: ─RY─RZ───X─o─|─\n",
      "q3: ─RY─RZ─────X─o─\n"
     ]
    }
   ],
   "source": [
    "# Get the list of quantum gates representing the ansatz\n",
    "gate_list = hea(n_layers=1, n_qubits=h2.nso, coupling_gates='CNOT') # 1 layer is sufficient\n",
    "\n",
    "# Build a quantum circuit and add the gates from gate_list to it\n",
    "circuit = models.Circuit(h2.nso)\n",
    "circuit.add(gate for gate in gate_list)\n",
    "print(circuit.draw())"
   ]
  },
  {
   "cell_type": "code",
   "execution_count": 33,
   "id": "ed019d1f",
   "metadata": {
    "slideshow": {
     "slide_type": "-"
    }
   },
   "outputs": [],
   "source": [
    "# Get the number of paramerized gates\n",
    "n_param_gates = len(circuit.get_parameters())\n",
    "\n",
    "# Create the VQE model\n",
    "symbolic_hamiltonian = h2.hamiltonian()\n",
    "vqe = models.VQE(circuit, symbolic_hamiltonian)\n",
    "\n",
    "# Optimize starting from a random guess for the variational parameters\n",
    "initial_parameters = np.random.uniform(0, 2*np.pi,\n",
    "                                        n_param_gates)\n",
    "best, params, extra = vqe.minimize(initial_parameters)# method='BFGS', compile=False) "
   ]
  },
  {
   "cell_type": "code",
   "execution_count": 34,
   "id": "42c02f21",
   "metadata": {},
   "outputs": [
    {
     "name": "stderr",
     "output_type": "stream",
     "text": [
      "[Qibo 0.2.2|WARNING|2023-11-23 10:49:23]: Calculating the dense form of a symbolic Hamiltonian. This operation is memory inefficient.\n"
     ]
    },
    {
     "name": "stdout",
     "output_type": "stream",
     "text": [
      "Results:\n",
      "         VQE energy: -1.1361894540659219\n",
      "\n",
      "Classical HF energy: -1.11734903499028\n",
      "     Exact solution: -1.1361894540659216\n"
     ]
    }
   ],
   "source": [
    "print(\"Results:\")\n",
    "print(f\"{' ':>9}VQE energy: {best}\\n\")\n",
    "\n",
    "print(f\"Classical HF energy: {h2.e_hf}\")\n",
    "# Exact groundstate energy of H2 as a reference\n",
    "print(f\"{' ':>5}Exact solution: {symbolic_hamiltonian.eigenvalues()[0]}\")"
   ]
  },
  {
   "cell_type": "markdown",
   "id": "7979b6e6",
   "metadata": {},
   "source": [
    "Notes:\n",
    "- The first reference result, the classical HF energy, is the basic starting point for most classical computational chemistry calculations.\n",
    "    - To outperform classical computational chemistry, the energy from the quantum circuit should be lower than this value\n",
    "    - However, depending on the initial set of parameters and the classical optimizer, one might occasionally reach this result as a local minimum\n",
    "- Of course, ideally, the VQE process manages to find the second reference result, the exact solution from diagonalizing the molecular Hamiltonian exactly"
   ]
  }
 ],
 "metadata": {
  "kernelspec": {
   "display_name": "Python 3 (ipykernel)",
   "language": "python",
   "name": "python3"
  },
  "language_info": {
   "codemirror_mode": {
    "name": "ipython",
    "version": 3
   },
   "file_extension": ".py",
   "mimetype": "text/x-python",
   "name": "python",
   "nbconvert_exporter": "python",
   "pygments_lexer": "ipython3",
   "version": "3.11.6"
  }
 },
 "nbformat": 4,
 "nbformat_minor": 5
}
