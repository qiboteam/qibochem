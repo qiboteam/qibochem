{
 "cells": [
  {
   "cell_type": "markdown",
   "id": "60fb2bc5",
   "metadata": {
    "slideshow": {
     "slide_type": "-"
    }
   },
   "source": [
    "# Introduction\n",
    "\n",
    "\n",
    "- Chemistry\n",
    "    - Experiments are expensive and not environmentally friendly\n",
    "- Computational Chemistry:\n",
    "    - Simulate and predict chemical reactions using computers to solve equations from quantum chemistry\n",
    "\n",
    "### Why quantum computing?\n",
    "- Richard Feynman:\n",
    "    - \"Nature isn’t classical, and if you want to make a simulation of Nature, you’d better make it quantum mechanical\"\n",
    "- Examples:\n",
    "    - $N_2$ fixation reactions at less harsh conditions than Haber process (~1% of CO2 emitted)\n",
    "    - Needs multireference methods, but the computational cost of these methods is beyond digital computers"
   ]
  },
  {
   "cell_type": "markdown",
   "id": "bdaa1dad",
   "metadata": {
    "slideshow": {
     "slide_type": "-"
    }
   },
   "source": [
    "## Quantum computing in chemistry:\n",
    "\n",
    "### Noisy intermediate-scale quantum (NISQ) era\n",
    "- Currently, hardware for quantum computing algorithms that can potentially outperform classical computational chemistry is not available\n",
    "    - Quantum phase-estimation (QPE) algorithm:\n",
    "        - In theory: we know the molecular Hamiltonian (see below) exactly\n",
    "        - Hence, can simulate a chemical system directly using a quantum computer\n",
    "    - But not possible in practical terms with current level of quantum hardware\n",
    "\n",
    "\n",
    "### Variational Quantum Eigensolver (VQE) approach\n",
    "- Based on variational theorem (quantum mechanics):\n",
    "    - Exact energy < Approximate energy\n",
    "- Define a loss function (electronic energy), and minimise it\n",
    "    - Combines classical and quantum computing:\n",
    "        - Classical: Optimizers and molecular integrals\n",
    "        - Quantum: Represent the electronic wave function\n",
    "    - 2 main approaches (ansatz):\n",
    "        - Chemistry-based:\n",
    "            - Expensive, need to make cheaper\n",
    "        - Heuristic/Hardware-efficient:\n",
    "            - Cheaper, but often not as reliable and/or efficient\n",
    "- On the whole, circuit depth is significantly reduced compared to QPE"
   ]
  },
  {
   "cell_type": "markdown",
   "id": "1cd14017",
   "metadata": {
    "slideshow": {
     "slide_type": "-"
    }
   },
   "source": [
    "## Introduction to Quantum Chemistry\n",
    "\n",
    "#### Schrodinger equation:\n",
    "\n",
    "$$\n",
    "\\hat{H} \\Psi = E \\Psi\n",
    "$$\n",
    "\n",
    "For fixed set of nuclear coordinates, the electronic Hamiltonian $\\hat{H}$ is\n",
    "\n",
    "$$\n",
    "\\begin{equation}\n",
    "\\hat{H} = \\hat{T}_e + \\hat{V}_{nn} + \\hat{V}_{ne} + \\hat{V}_{ee}\n",
    "\\end{equation}\n",
    "$$\n",
    "\n",
    "$$\n",
    "\\begin{align}\n",
    "\\text{where } T &= \\text{Kinetic energy} \\\\\n",
    "V &= \\text{Electrostatic interaction} \\\\\n",
    "n, e &= \\text{nuclei, electrons}\n",
    "\\end{align}\n",
    "$$\n",
    "\n",
    "- One of the main goals in computational quantum chemistry:\n",
    "    - Solve for $\\Psi$ = Electronic wave function\n",
    "    - Allows us to know everything about our molecule\n",
    "- Problem: Cannot be solved exactly because of electron-electron repulsion\n",
    "- Solve approximately instead:\n",
    "    - Simplify problem using a finite basis set:\n",
    "        - For atoms: Atomic orbitals\n",
    "            - Localised Gaussian-type functions (exp$(-ax^2)$) about each atom in a molecule\n",
    "        - For molecules: Molecular orbitals\n",
    "            - Linear combination of atomic orbitals (LCAO)\n",
    "                - e.g. $H_2\\text{: } \\chi_1 = c_1 \\phi_1 + c_2 \\phi_2$ and $\\chi_2 = c_1 \\phi_1 - c_2 \\phi_2$\n",
    "    - Hartree-Fock method:\n",
    "        - Solve for the LCAO coefficients s.t. the total molecular energy is minimized\n",
    "        - Then 'fill up' the lowest $N_{\\text{e}}$ (= number of electrons) molecular orbitals"
   ]
  },
  {
   "cell_type": "markdown",
   "id": "05736d80",
   "metadata": {
    "slideshow": {
     "slide_type": "-"
    }
   },
   "source": [
    "#### Second quantization formalism\n",
    "- Working in the space of molecular orbitals\n",
    "- Fermionic annihilation/creation operators\n",
    "    - $\\hat{a}_p$/$\\hat{a}_p^\\dagger$: Annihilate/Create electron in molecular orbital $p$\n",
    "\n",
    "\n",
    "Electronic Hamiltonian in this formalism:\n",
    "$$\n",
    "\\hat{H} = \\sum_{p, q} h_{pq} \\hat{a}_p^\\dagger \\hat{a}_q\n",
    "+ \\frac{1}{2} \\sum_{p, q, r, s} h_{pqrs} \\hat{a}_p^\\dagger \\hat{a}_q^\\dagger \\hat{a}_r \\hat{a}_s\n",
    "$$\n",
    "\n",
    "using the molecular integrals, $h_{pq}$ and $h_{pqrs}$\n",
    "\n",
    "$$\n",
    "h_{pq} = \\int \\chi_{p}^{*}(\\mathbf{x}) \\left( -\\frac{\\nabla^2}{2} - \\sum_{A} \\frac{Z_A}{\\lvert \\mathbf{r} - \\mathbf{R}_A \\rvert} \\right) \\chi_{q}(\\mathbf{x}) d\\mathbf{x}\n",
    "$$\n",
    "\n",
    "$$\n",
    "h_{pqrs} = \\int \\frac{\\chi_{p}^{*}(\\mathbf{x}_1) \\chi_{q}^{*}(\\mathbf{x}_2) \\chi_{r}(\\mathbf{x}_2) \\chi_{s}(\\mathbf{x}_1)}{\\lvert \\mathbf{r}_1 - \\mathbf{r}_2 \\rvert} d\\mathbf{x}_1 d\\mathbf{x}_2\n",
    "$$\n",
    "\n",
    "The electronic wave function is then just\n",
    "\n",
    "$$\n",
    "a_{N_e}^\\dagger a_{N_e -1}^\\dagger \\dots a_{2}^\\dagger a_{1}^\\dagger \\lvert 0 \\rangle\n",
    "$$\n",
    "\n",
    "where $\\lvert 0 \\rangle$ is the vacuum state, i.e. a state with no particles"
   ]
  },
  {
   "cell_type": "code",
   "execution_count": null,
   "id": "666f6e70",
   "metadata": {
    "slideshow": {
     "slide_type": "-"
    }
   },
   "outputs": [],
   "source": [
    "# QChem: Hands-on\n",
    "# Part 1. Setting up and transforming the Chemistry problem to quantum computing\n",
    "\n",
    "# Import required modules\n",
    "import numpy as np\n",
    "\n",
    "# \"OpenFermion is a library for compiling and analyzing quantum algorithms to simulate fermionic systems, \n",
    "# including quantum chemistry\"\n",
    "import openfermion\n",
    "\n",
    "# Molecule class to store the molecular integrals and other relevant quantities\n",
    "from qibochem.driver.molecule import Molecule"
   ]
  },
  {
   "cell_type": "code",
   "execution_count": null,
   "id": "23dc6c7d",
   "metadata": {
    "slideshow": {
     "slide_type": "-"
    }
   },
   "outputs": [],
   "source": [
    "# The molecule of interest can be defined using an .xyz file\n",
    "h2 = Molecule(xyz_file='h2.xyz')\n",
    "\n",
    "# Then, run a classical computational chemistry software to obtain the molecular integrals\n",
    "\n",
    "# From their respective manuals:\n",
    "# \"Psi4 is an open-source suite of ab initio quantum chemistry programs\"\n",
    "h2.run_psi4()\n",
    "# h2.run_pyscf() # Probably can't get PySCF on a Windows system so easily...\n",
    "\n",
    "# The one- (oei) and two- (tei) electron integrals are obtained after running the chemistry driver\n",
    "print(\"One- electron integrals for H2:\")\n",
    "print(h2.oei)\n",
    "print()\n",
    "print(\"Two- electron integrals for H2:\")\n",
    "print(h2.tei)"
   ]
  },
  {
   "cell_type": "code",
   "execution_count": null,
   "id": "09220dcf",
   "metadata": {},
   "outputs": [],
   "source": [
    "# With these integrals, we can form the molecular Hamiltonian (see above) as a sum of creation/annihilation operators\n",
    "fermionic_hamiltonian = h2.fermionic_hamiltonian() # OpenFermion InteractionOperator\n",
    "# Convert to an OpenFermion FermionOperator\n",
    "print(openfermion.transforms.get_fermion_operator(fermionic_hamiltonian))"
   ]
  },
  {
   "cell_type": "markdown",
   "id": "79c24453",
   "metadata": {
    "slideshow": {
     "slide_type": "-"
    }
   },
   "source": [
    "## Quantum computing applied to Chemistry\n",
    "\n",
    "\n",
    "### Fermion-to-Qubit Transformation\n",
    "\n",
    "Lastly, the Chemistry (fermionic) problem has to be mapped onto a (qubit) problem that can be modelled using a quantum computer\n",
    "\n",
    "E.g. Jordan-Wigner transformation:\n",
    "\n",
    "$$\\text{Annihilation, } \\hat{a}_p \\rightarrow \\hat{Z}^{\\otimes p} \\otimes \\frac{1}{2} (\\hat{X} + i\\hat{Y}) \\otimes 1^{\\otimes N_{qubits} -p-1}$$\n",
    "\n",
    "$$\\text{Creation, } \\hat{a}_p^\\dagger \\rightarrow \\hat{Z}^{\\otimes p} \\otimes \\frac{1}{2} (\\hat{X} - i\\hat{Y}) \\otimes 1^{\\otimes N_{qubits} -i-1}$$\n",
    "\n",
    "Note: In this mapping, each molecular orbital has a one-to-one mapping to a qubit, i.e. the $Z$-measurement of a qubit gives the occupancy of its associated molecular orbital directly."
   ]
  },
  {
   "cell_type": "code",
   "execution_count": null,
   "id": "a7d0abbe",
   "metadata": {},
   "outputs": [],
   "source": [
    "# Apply the Jordan-Wigner transformation to the molecular Hamiltonian\n",
    "jw_mol_hamiltonian = openfermion.jordan_wigner(fermionic_hamiltonian)\n",
    "print(jw_mol_hamiltonian)"
   ]
  },
  {
   "cell_type": "markdown",
   "id": "f8714305",
   "metadata": {
    "slideshow": {
     "slide_type": "-"
    }
   },
   "source": [
    "### Measurements to calculate the energy expectation value\n",
    "\n",
    "- To get the energy of our $H_2$ molecule:\n",
    "    - Need to measure the terms in the above cell, such as $0.1771\\dots Z_0$ and $0.1705\\dots Z_0 Z_1$\n",
    "    - For X/Y measurements:\n",
    "        - Basis rotation gates have to be applied before measuring the output of the circuit\n",
    "- Because of errors in running the quantum circuit:\n",
    "    - Measurement of each Pauli string has to be repeated numerous times\n",
    "- Expectation value of a Pauli string:\n",
    "    - Average value over all measurements\n",
    "- Total molecular energy:\n",
    "    - Sum of expectation values of all Pauli strings defining the qubit molecular Hamiltonian"
   ]
  },
  {
   "cell_type": "code",
   "execution_count": null,
   "id": "aa775acc",
   "metadata": {},
   "outputs": [],
   "source": [
    "from qibo import models, gates\n",
    "\n",
    "from qibochem.measurement.expectation import pauli_expectation_shots, circuit_expectation_shots"
   ]
  },
  {
   "cell_type": "code",
   "execution_count": null,
   "id": "56c7c092",
   "metadata": {},
   "outputs": [],
   "source": [
    "# Example: the 0.1777 Z0 term for H2\n",
    "\n",
    "# First, we build a basic quantum circuit with 4 (= number of spin-orbitals, nso) qubits\n",
    "circuit = models.Circuit(h2.nso)\n",
    "print(circuit.draw())"
   ]
  },
  {
   "cell_type": "markdown",
   "id": "f8c091da",
   "metadata": {},
   "source": [
    "In the Jordan-Wigner mapping, each qubit represents the occupancy of a molecular spin-orbital.\n",
    "The empty circuit with no gates is then simply just the vacuum state.\n",
    "Despite that, we can still obtain the expectation value of a Pauli string for this simple circuit, as shown below."
   ]
  },
  {
   "cell_type": "code",
   "execution_count": null,
   "id": "62060716",
   "metadata": {},
   "outputs": [],
   "source": [
    "circuit = models.Circuit(h2.nso)\n",
    "circuit.add(gates.M(0)) # Add a measurement gate to measure Z\n",
    "print(circuit.draw())\n",
    "\n",
    "# Define the Z0 QubitOperator  \n",
    "z0_qubit_operator = openfermion.QubitOperator('Z0', 0.1777)\n",
    "print(f\"\\nTerm: {z0_qubit_operator}\\n\")\n",
    "\n",
    "# The pauli_expectation_shots(circuit, nshots) helper function runs and measures the output of circuit nshots times\n",
    "# Since we're looking at the Z0 term, there's no need to apply any basis rotation gates before measurement\n",
    "z0_expectation_value = pauli_expectation_shots(circuit, 100)\n",
    "print(f\"Expectation value: {z0_expectation_value}\")"
   ]
  },
  {
   "cell_type": "markdown",
   "id": "b7bbfb01",
   "metadata": {},
   "source": [
    "Note: pauli_expectation_shots just gives the measurement directly, which is just equal to 1.0 for a circuit with no gates applied"
   ]
  },
  {
   "cell_type": "code",
   "execution_count": null,
   "id": "6da41b20",
   "metadata": {},
   "outputs": [],
   "source": [
    "# The circuit_expectation_shots(circuit, QubitOperator, nshots) helper function can be used to get the expectation value\n",
    "# of a QubitOperator, including its coefficient, directly\n",
    "\n",
    "circuit = models.Circuit(h2.nso)\n",
    "\n",
    "circuit_expectation = circuit_expectation_shots(circuit, z0_qubit_operator, 100)\n",
    "print(f\"Expectation value: {circuit_expectation}\")"
   ]
  },
  {
   "cell_type": "markdown",
   "id": "284919c2",
   "metadata": {
    "slideshow": {
     "slide_type": "slide"
    }
   },
   "source": [
    "### Simulated quantum circuits\n",
    "\n",
    "- Since our simulated quantum circuit doesn't have any noise, the expectation value of the Pauli string is exactly 0.1777.\n",
    "- Furthermore, since we're using a simulated quantum circuit here, we can obtain the exact state of the 'qubit wave function' for the circuit\n",
    "    - The state vector of the circuit can be used with the qubit Hamiltonian directly to calculate the expectation value of a Pauli string, and by extension, the qubit molecular Hamiltonian"
   ]
  },
  {
   "cell_type": "code",
   "execution_count": null,
   "id": "a768ef54",
   "metadata": {},
   "outputs": [],
   "source": [
    "# The same 0.1777 Z0 term, using the circuit state vector:\n",
    "# Note: We need to broadcast the SymbolicHamiltonian using I (I as in identity) terms to match 4 qubits\n",
    "# We use qibo.symbols here because openfermion.QubitOperator doesn't have I\n",
    "from qibo.symbols import I, Z\n",
    "from qibo.hamiltonians import SymbolicHamiltonian\n",
    "\n",
    "# The broadcasted Z_0 term using qibo.symbol\n",
    "z0_qubit_operator_broadcasted = 0.1777*Z(0)*I(1)*I(2)*I(3)\n",
    "# Convert it to a Qibo SymbolicHamiltonian\n",
    "z0_symbolic = SymbolicHamiltonian(z0_qubit_operator_broadcasted)\n",
    "\n",
    "# Build and run the simulated circuit to obtain its state vector\n",
    "circuit = models.Circuit(h2.nso)\n",
    "circuit_result = circuit(nshots=1)\n",
    "circuit_state = circuit_result.state()\n",
    "# Calculate the expectation value using the state vector\n",
    "z0_expectation_value = z0_symbolic.expectation(circuit_state)\n",
    "\n",
    "print(f\"Expectation value: {z0_expectation_value}\")"
   ]
  },
  {
   "cell_type": "code",
   "execution_count": null,
   "id": "eb2de81a",
   "metadata": {},
   "outputs": [],
   "source": [
    "# Note: Helper function in Molecule class for expectation values\n",
    "# TODO: Might change in next version of Qibo (0.1.12)\n",
    "\n",
    "# Using the broadcasted SymbolicHamiltonian\n",
    "circuit = models.Circuit(h2.nso)\n",
    "print(f\"Expectation value: {h2.expectation_value(circuit, z0_symbolic)}\")"
   ]
  },
  {
   "cell_type": "markdown",
   "id": "7af310f7",
   "metadata": {},
   "source": [
    "Going forward, we will just use the expectation value of the molecular Hamiltonian, obtained using the simulated state vector, for convenience."
   ]
  },
  {
   "cell_type": "code",
   "execution_count": null,
   "id": "1f191390",
   "metadata": {},
   "outputs": [],
   "source": [
    "# Example: Electronic energy of the vacuum state\n",
    "circuit = models.Circuit(h2.nso)\n",
    "\n",
    "# Get the molecular Hamiltonian, and convert it to a SymbolicHamiltonian\n",
    "fermion_hamiltonian = h2.fermionic_hamiltonian()\n",
    "qubit_hamiltonian = h2.qubit_hamiltonian(fermion_hamiltonian)\n",
    "symbolic_hamiltonian = h2.symbolic_hamiltonian(qubit_hamiltonian)\n",
    "\n",
    "print(f\" Electronic energy of vacuum state: {h2.expectation_value(circuit, symbolic_hamiltonian)}\")\n",
    "\n",
    "# Since there are no electrons, the electronic energy just consists of the nuclear repulsion energy\n",
    "print(f\"(Same as) Nuclear repulsion energy: {h2.e_nuc}\")"
   ]
  },
  {
   "cell_type": "markdown",
   "id": "d076f954",
   "metadata": {},
   "source": [
    "## VQE: Ansatz representing the molecular wave function\n",
    "\n",
    "We have shown above how to calculate the molecular electronic energy from a quantum circuit.\n",
    "The next step is to use a parametrized quantum circuit to model the electronic wave function of the molecule, i.e. the circuit ansatz.\n",
    "The aim of VQE is thus to minimise the electronic energy with respect to the parameters of the circuit ansatz.\n",
    "\n",
    "Here, we will use the [hardware-efficient ansatz](https://www.nature.com/articles/nature23879) to represent the wave function of the $H_2$ molecule.\n",
    "Note: it's actually possible to use symmetry to further reduce the number of qubits needed to just 2, but we will stick to using the one-to-one Jordan-Wigner mapping of a spin-orbital to a qubit directly for clarity in this example)"
   ]
  },
  {
   "cell_type": "code",
   "execution_count": null,
   "id": "bf4af1cd",
   "metadata": {},
   "outputs": [],
   "source": [
    "from qibochem.ansatz.hardware_efficient import hea_su2"
   ]
  },
  {
   "cell_type": "code",
   "execution_count": null,
   "id": "aa9fe771",
   "metadata": {
    "slideshow": {
     "slide_type": "-"
    }
   },
   "outputs": [],
   "source": [
    "# Get the list of quantum gates representing the ansatz\n",
    "gate_list = hea_su2(nlayers=1, nqubits=h2.nso) # 1 layer is sufficient\n",
    "\n",
    "# Build a quantum circuit and add the gates from gate_list to it\n",
    "circuit = models.Circuit(h2.nso)\n",
    "circuit.add(gate for gate in gate_list)\n",
    "print(circuit.draw())"
   ]
  },
  {
   "cell_type": "code",
   "execution_count": null,
   "id": "ed019d1f",
   "metadata": {
    "slideshow": {
     "slide_type": "-"
    }
   },
   "outputs": [],
   "source": [
    "# Get the number of paramerized gates\n",
    "n_param_gates = len(circuit.get_parameters())\n",
    "\n",
    "# Create the VQE model\n",
    "vqe = models.VQE(circuit, symbolic_hamiltonian)\n",
    "\n",
    "# Optimize starting from a random guess for the variational parameters\n",
    "initial_parameters = np.random.uniform(0, 2*np.pi,\n",
    "                                        n_param_gates)\n",
    "best, params, extra = vqe.minimize(initial_parameters)# method='BFGS', compile=False) "
   ]
  },
  {
   "cell_type": "code",
   "execution_count": null,
   "id": "42c02f21",
   "metadata": {},
   "outputs": [],
   "source": [
    "print(\"Results:\")\n",
    "print(f\"{' ':>9}VQE energy: {best}\\n\")\n",
    "\n",
    "print(f\"Classical HF energy: {h2.e_hf}\")\n",
    "# Exact groundstate energy of H2 as a reference\n",
    "print(f\"{' ':>5}Exact solution: {symbolic_hamiltonian.eigenvalues()[0]}\")"
   ]
  },
  {
   "cell_type": "markdown",
   "id": "7979b6e6",
   "metadata": {},
   "source": [
    "Notes:\n",
    "- The first reference result, the classical HF energy, is the basic starting point for most classical computational chemistry calculations.\n",
    "    - To outperform classical computational chemistry, the energy from the quantum circuit should be lower than this value\n",
    "    - However, depending on the initial set of parameters and the classical optimizer, one might occasionally reach this result as a local minimum\n",
    "- Of course, ideally, the VQE process manages to find the second reference result, the exact solution from diagonalizing the molecular Hamiltonian exactly"
   ]
  }
 ],
 "metadata": {
  "kernelspec": {
   "display_name": "Python 3 (ipykernel)",
   "language": "python",
   "name": "python3"
  },
  "language_info": {
   "codemirror_mode": {
    "name": "ipython",
    "version": 3
   },
   "file_extension": ".py",
   "mimetype": "text/x-python",
   "name": "python",
   "nbconvert_exporter": "python",
   "pygments_lexer": "ipython3",
   "version": "3.8.15"
  }
 },
 "nbformat": 4,
 "nbformat_minor": 5
}
