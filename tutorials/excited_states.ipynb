{
 "cells": [
  {
   "cell_type": "markdown",
   "id": "43d4a800-5390-44b6-92a4-9d662db9713a",
   "metadata": {},
   "source": [
    "# Excited states methods\n",
    "\n",
    "Beyond the ground state, the excited states of molecules are often of interest in applications such as light harvesting and bioimaging as well.\n",
    "In this example, we demonstrate a relatively simple excited state approach, the folded spectrum Hamiltonian (REF!!)\n",
    "\n",
    "As usual, we start by first defining and building the molecule of interest:"
   ]
  },
  {
   "cell_type": "code",
   "execution_count": 1,
   "id": "57e483bf-0f45-40f4-bb1a-1783e19cc35c",
   "metadata": {},
   "outputs": [],
   "source": [
    "from qibochem.driver import Molecule\n",
    "\n",
    "h2 = Molecule(xyz_file=\"../tests/data/h2.xyz\")\n",
    "h2.run_pyscf()"
   ]
  },
  {
   "cell_type": "code",
   "execution_count": 2,
   "id": "235885b5-f629-4197-bc72-9a20be1d0cfd",
   "metadata": {},
   "outputs": [
    {
     "name": "stdout",
     "output_type": "stream",
     "text": [
      "Eigenvalues of the H2 Hamiltonian:\n",
      "[-1.13618945 -0.52188556 -0.52188556 -0.47845306 -0.47845306 -0.47845306\n",
      " -0.40318375 -0.40318375 -0.1204519   0.30766775  0.30766775  0.44908566\n",
      "  0.44908566  0.5833141   0.75596744  1.01608717]\n"
     ]
    }
   ],
   "source": [
    "hamiltonian = h2.hamiltonian()\n",
    "eigenvalues = hamiltonian.eigenvalues()\n",
    "print(\"Eigenvalues of the H2 Hamiltonian:\")\n",
    "print(eigenvalues)"
   ]
  },
  {
   "cell_type": "markdown",
   "id": "0c4f11cc-ca87-4133-a518-f129ef91723c",
   "metadata": {},
   "source": [
    "The folded spectrum Hamiltonian requires an additional hyperparameter: $\\omega$, the number to `fold' the original Hamiltonian about.\n",
    "Ideally, $\\omega$ should be as close to the value of the target excited state as possible.\n",
    "Here, we'll use the exact ground state, which we will obtain by running VQE normally, as a reference starting point for $\\omega$."
   ]
  },
  {
   "cell_type": "code",
   "execution_count": 3,
   "id": "ded4c4c5-52b6-48be-b93b-870a04a282a1",
   "metadata": {},
   "outputs": [],
   "source": [
    "import numpy as np\n",
    "\n",
    "from qibo.models import VQE\n",
    "\n",
    "from qibochem.ansatz import ucc_ansatz"
   ]
  },
  {
   "cell_type": "code",
   "execution_count": 4,
   "id": "6d9882c1-c6fa-4a08-a9f7-7b2a5f3b038e",
   "metadata": {},
   "outputs": [
    {
     "name": "stdout",
     "output_type": "stream",
     "text": [
      "VQE result: -1.136189454\n"
     ]
    }
   ],
   "source": [
    "# We'll start by trying out the UCC circuit ansatz first\n",
    "ucc_circuit = ucc_ansatz(h2)\n",
    "\n",
    "# Run VQE to find the ground state for the original molecular Hamiltonian\n",
    "vqe = VQE(ucc_circuit, hamiltonian)\n",
    "ucc_parameters = np.random.rand(len(ucc_circuit.get_parameters()))\n",
    "vqe_ground, ucc_parameters, _result = vqe.minimize(ucc_parameters)\n",
    "print(f\"VQE result: {vqe_ground:.9f}\")"
   ]
  },
  {
   "cell_type": "markdown",
   "id": "491e7c9c-8095-4309-918c-9ad1b131ca7f",
   "metadata": {},
   "source": [
    "Does the VQE result match the lowest eigenvalue from the above cell?\n",
    "For the small $H_2$ molecule, VQE shouldn't have any problem finding the exact ground state. \n",
    "\n",
    "Now, let's try using the (ground state) VQE result in the folded spectrum Hamiltonian.\n",
    "To try and find the lowest excited state, we will set the hyperparameter $\\omega$ to be slightly less negative than the VQE ground state, so that we can target the first excited state.\n",
    "Then, we carry out VQE with the folded spectrum Hamiltonian to obtain the circuit parameters that yield the 'ground state'."
   ]
  },
  {
   "cell_type": "code",
   "execution_count": 5,
   "id": "52f67e2a-20d4-4dd8-b73d-dcf06b8d6601",
   "metadata": {},
   "outputs": [
    {
     "name": "stdout",
     "output_type": "stream",
     "text": [
      "VQE folded spectrum result: 0.066428051\n"
     ]
    }
   ],
   "source": [
    "# Define the folded spectrum Hamiltonian\n",
    "omega = vqe_ground + 0.4  # Hyperparameter\n",
    "fs_hamiltonian = h2.fs_hamiltonian(omega)\n",
    "\n",
    "# Run VQE to find the ground state for the folded spectrum Hamiltonian\n",
    "fs_vqe = VQE(ucc_circuit, fs_hamiltonian)\n",
    "fs_parameters = np.random.rand(len(ucc_circuit.get_parameters()))\n",
    "vqe_fs, fs_parameters, _result = fs_vqe.minimize(fs_parameters)\n",
    "print(f\"VQE folded spectrum result: {vqe_fs:.9f}\")"
   ]
  },
  {
   "cell_type": "markdown",
   "id": "4c47858f-5dfc-4777-b83e-248c816e909f",
   "metadata": {},
   "source": [
    "Lastly, the expectation value of the original molecular Hamiltonian is calculated using the circuit parameters that were obtained after running VQE with the folded spectrum Hamiltonian.\n",
    "If everything works, this expectation value should give us an excited state of the molecular Hamiltonian."
   ]
  },
  {
   "cell_type": "code",
   "execution_count": 6,
   "id": "fddb28c2-e167-4062-8d51-6f6523298146",
   "metadata": {},
   "outputs": [],
   "source": [
    "from qibochem.measurement import expectation"
   ]
  },
  {
   "cell_type": "code",
   "execution_count": 7,
   "id": "a6192065-1a7f-4c1f-a826-754ffe4e7328",
   "metadata": {},
   "outputs": [
    {
     "name": "stdout",
     "output_type": "stream",
     "text": [
      "Expectation value: -0.47845306 (w.r.t. the original Hamiltonian)\n"
     ]
    }
   ],
   "source": [
    "ucc_circuit.set_parameters(fs_parameters)\n",
    "print(f\"Expectation value: {expectation(ucc_circuit, hamiltonian):.8f} (w.r.t. the original Hamiltonian)\")"
   ]
  },
  {
   "cell_type": "markdown",
   "id": "cff50f1d-cedc-40f5-98f4-1e491783a538",
   "metadata": {},
   "source": [
    "Comparing this result to the initial set of eigenvalues, we can see that the folded spectum Hamiltonian approach successfully found a higher eigenvalue of the molecular Hamiltonian ($-0.478...$ vs $-1.136...$).\n",
    "\n",
    "However, one might ask why wasn't the obtained solution the second (degenerate) eigenvalue ($-0.521...$)? The answer lies in the circuit ansatz that was used here.\n",
    "More specifically, the first two $X$ gates in the UCCSD circuit ansatz define the quantum simulation to have exactly **two** electrons, restricting VQE to searching this particular subspace of the entire Hilbert space.\n",
    "In contrast, the second (degenerate) eigenvalue refers to the case in which there is only **one** electron in the quantum simulation, which is why the default UCCSD circuit ansatz is unable to locate this solution.\n",
    "\n",
    "To show this, let's make some slight modifications to the UCCSD circuit ansatz, and run a normal ground state VQE with it.\n",
    "Essentially, we'll just set the initial Hartree-Fock reference circuit (and by extension, the VQE search space) to have only **one** electron."
   ]
  },
  {
   "cell_type": "code",
   "execution_count": 8,
   "id": "677e9804-533f-4c55-b40f-d4a4fb534bb5",
   "metadata": {},
   "outputs": [],
   "source": [
    "from qibochem.ansatz import hf_circuit"
   ]
  },
  {
   "cell_type": "code",
   "execution_count": 9,
   "id": "86a67afa-3fd8-4a77-bf4c-abf8dcbd1477",
   "metadata": {},
   "outputs": [
    {
     "name": "stdout",
     "output_type": "stream",
     "text": [
      "VQE result: -0.521885562 (with a one-electron reference HF circuit)\n"
     ]
    }
   ],
   "source": [
    "# Changing the HF reference circuit to have only one electron, and make sure it isn't included in the ucc_ansatz function\n",
    "ucc_circuit2 = hf_circuit(h2.nso, n_electrons=1) + ucc_ansatz(h2, include_hf=False)\n",
    "\n",
    "# Run VQE to find the ground state w.r.t. the modified UCCSD circuit ansatz\n",
    "vqe2 = VQE(ucc_circuit2, hamiltonian)\n",
    "ucc_parameters2 = np.random.rand(len(ucc_circuit2.get_parameters()))\n",
    "vqe_ground2, ucc_parameters2, _result = vqe2.minimize(ucc_parameters2)\n",
    "print(f\"VQE result: {vqe_ground2:.9f} (with a one-electron reference HF circuit)\")"
   ]
  },
  {
   "cell_type": "markdown",
   "id": "4236c0ff-3264-4617-8567-938cf4c2e020",
   "metadata": {},
   "source": [
    "So that's an example of how the circuit ansatz can affect the obtained solution in VQE.\n",
    "\n",
    "Lastly, what happens if we use a circuit ansatz that doesn't conserve the number of electrons in the quantum simulation; *e.g.* the hardware-efficient ansatz?"
   ]
  },
  {
   "cell_type": "code",
   "execution_count": 10,
   "id": "59c347d1-e349-485c-bd60-8d7de66981cc",
   "metadata": {},
   "outputs": [
    {
     "name": "stdout",
     "output_type": "stream",
     "text": [
      "0: ─RY─RZ─o─────X─RY─RZ─o─────X─RY─RZ─o─────X─\n",
      "1: ─RY─RZ─X─o───|─RY─RZ─X─o───|─RY─RZ─X─o───|─\n",
      "2: ─RY─RZ───X─o─|─RY─RZ───X─o─|─RY─RZ───X─o─|─\n",
      "3: ─RY─RZ─────X─o─RY─RZ─────X─o─RY─RZ─────X─o─\n"
     ]
    }
   ],
   "source": [
    "from qibochem.ansatz import he_circuit\n",
    "\n",
    "hardware_efficient_circuit = he_circuit(h2.nso, n_layers=3, coupling_gates=\"CNOT\")\n",
    "hardware_efficient_circuit.draw()"
   ]
  },
  {
   "cell_type": "code",
   "execution_count": 11,
   "id": "eaa703e5-1a34-4ca1-a8cf-2b179806bd5f",
   "metadata": {},
   "outputs": [],
   "source": [
    "# Run VQE with the hardware-efficient circuit ansatz and the folded spectrum Hamiltonian\n",
    "fs_he_vqe = VQE(hardware_efficient_circuit, fs_hamiltonian)\n",
    "fs_he_parameters = np.random.rand(len(hardware_efficient_circuit.get_parameters()))\n",
    "vqe_he_fs, fs_he_parameters, _result = fs_he_vqe.minimize(fs_he_parameters)"
   ]
  },
  {
   "cell_type": "code",
   "execution_count": 12,
   "id": "87a0f0d2-4ecb-4ae2-924b-b9966cddab58",
   "metadata": {},
   "outputs": [
    {
     "name": "stdout",
     "output_type": "stream",
     "text": [
      "Expectation value of molecular Hamiltonian: -0.5218851719525988\n"
     ]
    }
   ],
   "source": [
    "# Expectation value of the molecular Hamiltonian\n",
    "hardware_efficient_circuit.set_parameters(fs_he_parameters)\n",
    "print(f\"Expectation value of molecular Hamiltonian: {expectation(hardware_efficient_circuit, hamiltonian)}\")"
   ]
  },
  {
   "cell_type": "markdown",
   "id": "73fdcf31-03a2-4878-b4ea-e41479315e96",
   "metadata": {},
   "source": [
    "This time, we should be able to find the second lowest eigenvalue for the molecular Hamiltonian ($-0.521...$).\n",
    "(If not, try re-running VQE in the cell immediately above)\n",
    "\n",
    "## Finding a good value of $\\omega$\n",
    "\n",
    "As explained above, $\\omega$ is a hyperparameter in the folded spectrum Hamiltonian approach.\n",
    "Unfortunately, there is no easy way of pre-determining a 'good' value of $\\omega$ for the excited state of interest.\n",
    "At best, one can use chemical intuition to make an educated guess for $\\omega$; but if one has completely no pre-exising knowledge or experience regarding the system of interest, then a brute force approach of scanning through a range of values of $\\omega$.\n",
    "\n",
    "An example of how to carry out this scan is given below:"
   ]
  },
  {
   "cell_type": "code",
   "execution_count": 13,
   "id": "bd411948-9819-4d6c-b59f-d60980c16ccd",
   "metadata": {},
   "outputs": [],
   "source": [
    "# Hyperparameters to perform the scanning of \\omega\n",
    "delta_step = 0.05\n",
    "delta_max_multiplier = 1.0\n",
    "max_iterations = 10\n",
    "\n",
    "delta_multiplier = 0.1  # Fraction of ground state energy for determining the folding"
   ]
  },
  {
   "cell_type": "code",
   "execution_count": 14,
   "id": "92afabe2-d527-4394-bc1c-548dc1aecf07",
   "metadata": {},
   "outputs": [
    {
     "name": "stdout",
     "output_type": "stream",
     "text": [
      "[FS-VQE] Iteration 1: delta_multiplier=0.1000, delta=0.113619, folded_energy=0.01290926, Electronic energy: -1.1361895\n",
      "[FS-VQE] Iteration 2: delta_multiplier=0.1500, delta=0.170428, folded_energy=0.02904585, Electronic energy: -1.1361895\n",
      "[FS-VQE] Iteration 3: delta_multiplier=0.2000, delta=0.227238, folded_energy=0.05163706, Electronic energy: -1.1361895\n",
      "[FS-VQE] Iteration 4: delta_multiplier=0.2500, delta=0.284047, folded_energy=0.08068301, Electronic energy: -1.1361889\n",
      "[FS-VQE] Iteration 5: delta_multiplier=0.3000, delta=0.340857, folded_energy=0.10041266, Electronic energy: -0.4784531\n",
      "\n",
      "Excited state found: E1 = -0.4784531\n"
     ]
    }
   ],
   "source": [
    "# Perform the scan\n",
    "for _i in range(max_iterations):\n",
    "    delta = delta_multiplier * abs(vqe_ground)\n",
    "    omega = vqe_ground + delta\n",
    "    fs_ham = h2.fs_hamiltonian(omega, hamiltonian)\n",
    "\n",
    "    # Construct and run VQE\n",
    "    scan_vqe = VQE(ucc_circuit, fs_ham)\n",
    "    scan_vqe_parameters = np.random.rand(len(ucc_circuit.get_parameters()))\n",
    "    scan_vqe_min, scan_vqe_parameters, _result = scan_vqe.minimize(scan_vqe_parameters)\n",
    "\n",
    "    # Print some results\n",
    "    ucc_circuit.set_parameters(scan_vqe_parameters)\n",
    "    energy = expectation(ucc_circuit, hamiltonian)\n",
    "    print(\n",
    "        f\"[FS-VQE] Iteration {_i+1}: delta_multiplier={delta_multiplier:.4f}, delta={delta:.6f}, folded_energy={scan_vqe_min:.8f}, \"\n",
    "        f\"Electronic energy: {energy:.7f}\"\n",
    "    )\n",
    "\n",
    "    if scan_vqe_min < delta**2:\n",
    "        print(f\"\\nExcited state found: E1 = {energy:.7f}\")\n",
    "        break\n",
    "    delta_multiplier += delta_step\n",
    "    if delta_multiplier > delta_max_multiplier:\n",
    "        print(f\"Failed to find an excited state!\")\n",
    "        break"
   ]
  },
  {
   "cell_type": "markdown",
   "id": "12ee8e27-6af1-48a9-a7fd-1575b8d4a593",
   "metadata": {},
   "source": [
    "## Longer simulations\n",
    "\n",
    "Lastly, let's try to perform a similar scan with the hardware efficient ansatz, and see if we can find all the eigenvalues of the molecular Hamiltonian. \n",
    "\n",
    "In other words, we're trying to find all possible excited states, without any considerations regarding the number of electrons in the system."
   ]
  },
  {
   "cell_type": "code",
   "execution_count": 15,
   "id": "0bceeb09-12b1-4257-ae98-9dfc1d237aaa",
   "metadata": {},
   "outputs": [],
   "source": [
    "# Define a function to find the eigenvalue w.r.t. \\omega\n",
    "\n",
    "def find_excited_state(hamiltonian, omega, circuit):\n",
    "    \"\"\"\n",
    "    For a given Hamiltonian, construct the folded spectum Hamiltonian w.r.t. omega, and run VQE to find the excited state\n",
    "    for the original Hamiltonian\n",
    "\n",
    "    Args:\n",
    "        hamiltonian: Original Hamiltonian of interest\n",
    "        omega: Value to fold the original Hamiltonian about\n",
    "        circuit: Circuit ansatz for running VQE\n",
    "\n",
    "    Returns:\n",
    "        float: Result of folded spectrum Hamiltonian approach\n",
    "    \"\"\"\n",
    "    dummy = Molecule()  # Dummy Molecule for calling the fs_hamiltonian() method\n",
    "    fs_ham = dummy.fs_hamiltonian(omega, hamiltonian)\n",
    "\n",
    "    fs_ham_min = None\n",
    "    optimal_parameters = None\n",
    "    # Run VQE a number of times to reduce randomness\n",
    "    for _ in range(3):\n",
    "        fs_vqe = VQE(circuit, fs_ham)\n",
    "        fs_parameters = np.random.rand(len(circuit.get_parameters()))\n",
    "        vqe_fs, fs_parameters, _result = fs_vqe.minimize(fs_parameters)\n",
    "        if fs_ham_min is None or vqe_fs < fs_ham_min:\n",
    "            fs_ham_min = vqe_fs\n",
    "            optimal_parameters = fs_parameters.copy()\n",
    "\n",
    "    # Expectation value of the original Hamiltonian with the optimal circuit parameters\n",
    "    circuit.set_parameters(fs_parameters)\n",
    "    return expectation(circuit, hamiltonian)"
   ]
  },
  {
   "cell_type": "markdown",
   "id": "986dcee3-f781-49f2-b6d4-359343d3167e",
   "metadata": {},
   "source": [
    "**Warning: The following cell might take a few minutes to run!**"
   ]
  },
  {
   "cell_type": "code",
   "execution_count": 16,
   "id": "78ee5f16-fad8-485e-87d8-95a11d222596",
   "metadata": {},
   "outputs": [
    {
     "name": "stdout",
     "output_type": "stream",
     "text": [
      "Omega: -1.136 - Result: -1.1361894540659196\n",
      "Omega: -0.936 - Result: -1.1361048278357495\n",
      "Omega: -0.736 - Result: -0.5216290656815866\n",
      "Omega: -0.536 - Result: -0.4784525261646579\n",
      "Omega: -0.336 - Result: -0.40319651894602726\n",
      "Omega: -0.136 - Result: -0.12045190380706042\n",
      "Omega: 0.064 - Result: -0.12045165045058437\n",
      "Omega: 0.264 - Result: 0.4490873502350595\n",
      "Omega: 0.464 - Result: 0.44908639833377056\n",
      "Omega: 0.664 - Result: 0.6693673680293584\n",
      "Omega: 0.864 - Result: 0.7559673673329969\n"
     ]
    }
   ],
   "source": [
    "for shift in np.arange(0.0, 2.1, 0.2):\n",
    "    omega = vqe_ground + shift\n",
    "    print(f\"Omega: {omega:.3f} - Result: {find_excited_state(hamiltonian, omega, hardware_efficient_circuit)}\")"
   ]
  },
  {
   "cell_type": "markdown",
   "id": "86a3bc0d-4932-4c46-bf29-20a0ed5e9beb",
   "metadata": {},
   "source": [
    "Compare the results to the eigenvalues obtained by diagonalizing the Hamiltonian directly. Did we succeed in finding all of them?"
   ]
  }
 ],
 "metadata": {
  "kernelspec": {
   "display_name": "Python 3 (ipykernel)",
   "language": "python",
   "name": "python3"
  },
  "language_info": {
   "codemirror_mode": {
    "name": "ipython",
    "version": 3
   },
   "file_extension": ".py",
   "mimetype": "text/x-python",
   "name": "python",
   "nbconvert_exporter": "python",
   "pygments_lexer": "ipython3",
   "version": "3.12.11"
  }
 },
 "nbformat": 4,
 "nbformat_minor": 5
}
