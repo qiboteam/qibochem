{
 "cells": [
  {
   "cell_type": "markdown",
   "id": "43d4a800-5390-44b6-92a4-9d662db9713a",
   "metadata": {},
   "source": [
    "# Excited states methods\n",
    "\n",
    "Beyond the ground state, the excited states of molecules are often of interest in applications such as light harvesting and bioimaging as well.\n",
    "In this example, we demonstrate a relatively simple excited state approach, the folded spectrum Hamiltonian (REF!!)\n",
    "\n",
    "As usual, we start by first defining and building the molecule of interest:"
   ]
  },
  {
   "cell_type": "code",
   "execution_count": 1,
   "id": "57e483bf-0f45-40f4-bb1a-1783e19cc35c",
   "metadata": {},
   "outputs": [],
   "source": [
    "from qibochem.driver import Molecule\n",
    "\n",
    "h2 = Molecule(xyz_file=\"../tests/data/h2.xyz\")\n",
    "h2.run_pyscf()"
   ]
  },
  {
   "cell_type": "code",
   "execution_count": 2,
   "id": "235885b5-f629-4197-bc72-9a20be1d0cfd",
   "metadata": {},
   "outputs": [
    {
     "name": "stdout",
     "output_type": "stream",
     "text": [
      "Eigenvalues of the H2 Hamiltonian:\n",
      "[-1.13618945 -0.52188556 -0.52188556 -0.47845306 -0.47845306 -0.47845306\n",
      " -0.40318375 -0.40318375 -0.1204519   0.30766775  0.30766775  0.44908566\n",
      "  0.44908566  0.5833141   0.75596744  1.01608717]\n"
     ]
    }
   ],
   "source": [
    "hamiltonian = h2.hamiltonian()\n",
    "eigenvalues = hamiltonian.eigenvalues()\n",
    "print(\"Eigenvalues of the H2 Hamiltonian:\")\n",
    "print(eigenvalues)"
   ]
  },
  {
   "cell_type": "markdown",
   "id": "0c4f11cc-ca87-4133-a518-f129ef91723c",
   "metadata": {},
   "source": [
    "The folded spectrum Hamiltonian requires an additional hyperparameter: $\\omega$, the number to `fold' the original Hamiltonian about.\n",
    "Ideally, $\\omega$ should be as close to the value of the target excited state as possible.\n",
    "Here, we'll use the exact ground state, which we will obtain by running VQE normally, as a reference starting point for $\\omega$."
   ]
  },
  {
   "cell_type": "code",
   "execution_count": 3,
   "id": "ded4c4c5-52b6-48be-b93b-870a04a282a1",
   "metadata": {},
   "outputs": [],
   "source": [
    "import numpy as np\n",
    "\n",
    "from qibo.models import VQE\n",
    "\n",
    "from qibochem.ansatz import ucc_ansatz"
   ]
  },
  {
   "cell_type": "code",
   "execution_count": 4,
   "id": "6d9882c1-c6fa-4a08-a9f7-7b2a5f3b038e",
   "metadata": {},
   "outputs": [
    {
     "name": "stdout",
     "output_type": "stream",
     "text": [
      "VQE result: -1.136189454\n"
     ]
    }
   ],
   "source": [
    "# We'll start by trying out the UCC circuit ansatz first\n",
    "ucc_circuit = ucc_ansatz(h2)\n",
    "\n",
    "# Run VQE to find the ground state for the original molecular Hamiltonian\n",
    "vqe = VQE(ucc_circuit, hamiltonian)\n",
    "ucc_parameters = np.random.rand(len(ucc_circuit.get_parameters()))\n",
    "vqe_ground, ucc_parameters, _result = vqe.minimize(ucc_parameters)\n",
    "print(f\"VQE result: {vqe_ground:.9f}\")"
   ]
  },
  {
   "cell_type": "markdown",
   "id": "491e7c9c-8095-4309-918c-9ad1b131ca7f",
   "metadata": {},
   "source": [
    "Does the VQE result match the lowest eigenvalue from the above cell?\n",
    "For the small $H_2$ molecule, VQE shouldn't have any problem finding the exact ground state. \n",
    "\n",
    "Now, let's try using the (ground state) VQE result in the folded spectrum Hamiltonian.\n",
    "To try and find the lowest excited state, we will set the hyperparameter $\\omega$ to be slightly less negative than the VQE ground state, so that we can target the first excited state.\n",
    "Then, we carry out VQE with the folded spectrum Hamiltonian to obtain the circuit parameters that yield the 'ground state'."
   ]
  },
  {
   "cell_type": "code",
   "execution_count": 5,
   "id": "52f67e2a-20d4-4dd8-b73d-dcf06b8d6601",
   "metadata": {},
   "outputs": [
    {
     "name": "stdout",
     "output_type": "stream",
     "text": [
      "VQE folded spectrum result: 0.066428051\n"
     ]
    }
   ],
   "source": [
    "# Define the folded spectrum Hamiltonian\n",
    "omega = vqe_ground + 0.4  # Hyperparameter\n",
    "fs_hamiltonian = h2.fs_hamiltonian(omega)\n",
    "\n",
    "# Run VQE to find the ground state for the folded spectrum Hamiltonian\n",
    "fs_vqe = VQE(ucc_circuit, fs_hamiltonian)\n",
    "fs_parameters = np.random.rand(len(ucc_circuit.get_parameters()))\n",
    "vqe_fs, fs_parameters, _result = fs_vqe.minimize(fs_parameters)\n",
    "print(f\"VQE folded spectrum result: {vqe_fs:.9f}\")"
   ]
  },
  {
   "cell_type": "markdown",
   "id": "4c47858f-5dfc-4777-b83e-248c816e909f",
   "metadata": {},
   "source": [
    "Lastly, the expectation value of the original molecular Hamiltonian is calculated using the circuit parameters that were obtained after running VQE with the folded spectrum Hamiltonian.\n",
    "If everything works, this expectation value should give us an excited state of the molecular Hamiltonian."
   ]
  },
  {
   "cell_type": "code",
   "execution_count": 6,
   "id": "fddb28c2-e167-4062-8d51-6f6523298146",
   "metadata": {},
   "outputs": [],
   "source": [
    "from qibochem.measurement import expectation"
   ]
  },
  {
   "cell_type": "code",
   "execution_count": 7,
   "id": "a6192065-1a7f-4c1f-a826-754ffe4e7328",
   "metadata": {},
   "outputs": [
    {
     "name": "stdout",
     "output_type": "stream",
     "text": [
      "Expectation value: -0.47845306 (w.r.t. the original Hamiltonian)\n"
     ]
    }
   ],
   "source": [
    "ucc_circuit.set_parameters(fs_parameters)\n",
    "print(f\"Expectation value: {expectation(ucc_circuit, hamiltonian):.8f} (w.r.t. the original Hamiltonian)\")"
   ]
  },
  {
   "cell_type": "markdown",
   "id": "cff50f1d-cedc-40f5-98f4-1e491783a538",
   "metadata": {},
   "source": [
    "Comparing this result to the initial set of eigenvalues, we can see that the folded spectum Hamiltonian approach successfully found a higher eigenvalue of the molecular Hamiltonian ($-0.478...$ vs $-1.136...$).\n",
    "\n",
    "However, one might ask why wasn't the obtained solution the second (degenerate) eigenvalue ($-0.521...$)? The answer lies in the circuit ansatz that was used here.\n",
    "More specifically, the first two $X$ gates in the UCCSD circuit ansatz define the quantum simulation to have exactly **two** electrons, restricting VQE to searching this particular subspace of the entire Hilbert space.\n",
    "In contrast, the second (degenerate) eigenvalue refers to the case in which there is only **one** electron in the quantum simulation, which is why the default UCCSD circuit ansatz is unable to locate this solution.\n",
    "\n",
    "To show this, let's make some slight modifications to the UCCSD circuit ansatz, and run a normal ground state VQE with it.\n",
    "Essentially, we'll just set the initial Hartree-Fock reference circuit (and by extension, the VQE search space) to have only **one** electron."
   ]
  },
  {
   "cell_type": "code",
   "execution_count": 8,
   "id": "677e9804-533f-4c55-b40f-d4a4fb534bb5",
   "metadata": {},
   "outputs": [],
   "source": [
    "from qibochem.ansatz import hf_circuit"
   ]
  },
  {
   "cell_type": "code",
   "execution_count": 9,
   "id": "86a67afa-3fd8-4a77-bf4c-abf8dcbd1477",
   "metadata": {},
   "outputs": [
    {
     "name": "stdout",
     "output_type": "stream",
     "text": [
      "VQE result: -0.521885562 (with a one-electron reference HF circuit)\n"
     ]
    }
   ],
   "source": [
    "# Changing the HF reference circuit to have only one electron, and make sure it isn't included in the ucc_ansatz function\n",
    "ucc_circuit2 = hf_circuit(h2.nso, n_electrons=1) + ucc_ansatz(h2, include_hf=False)\n",
    "\n",
    "# Run VQE to find the ground state w.r.t. the modified UCCSD circuit ansatz\n",
    "vqe2 = VQE(ucc_circuit2, hamiltonian)\n",
    "ucc_parameters2 = np.random.rand(len(ucc_circuit2.get_parameters()))\n",
    "vqe_ground2, ucc_parameters2, _result = vqe2.minimize(ucc_parameters2)\n",
    "print(f\"VQE result: {vqe_ground2:.9f} (with a one-electron reference HF circuit)\")"
   ]
  },
  {
   "cell_type": "markdown",
   "id": "4236c0ff-3264-4617-8567-938cf4c2e020",
   "metadata": {},
   "source": [
    "So that's an example of how the circuit ansatz can affect the obtained solution in VQE.\n",
    "\n",
    "Lastly, what happens if we use a circuit ansatz that doesn't conserve the number of electrons in the quantum simulation; *e.g.* the hardware-efficient ansatz?"
   ]
  },
  {
   "cell_type": "code",
   "execution_count": 10,
   "id": "59c347d1-e349-485c-bd60-8d7de66981cc",
   "metadata": {},
   "outputs": [
    {
     "name": "stdout",
     "output_type": "stream",
     "text": [
      "0: ─RY─RZ─o─────X─RY─RZ─o─────X─RY─RZ─o─────X─\n",
      "1: ─RY─RZ─X─o───|─RY─RZ─X─o───|─RY─RZ─X─o───|─\n",
      "2: ─RY─RZ───X─o─|─RY─RZ───X─o─|─RY─RZ───X─o─|─\n",
      "3: ─RY─RZ─────X─o─RY─RZ─────X─o─RY─RZ─────X─o─\n"
     ]
    }
   ],
   "source": [
    "from qibochem.ansatz import he_circuit\n",
    "\n",
    "hardware_efficient_circuit = he_circuit(h2.nso, n_layers=3, coupling_gates=\"CNOT\")\n",
    "hardware_efficient_circuit.draw()"
   ]
  },
  {
   "cell_type": "code",
   "execution_count": 11,
   "id": "eaa703e5-1a34-4ca1-a8cf-2b179806bd5f",
   "metadata": {},
   "outputs": [],
   "source": [
    "# Run VQE with the hardware-efficient circuit ansatz and the folded spectrum Hamiltonian\n",
    "fs_he_vqe = VQE(hardware_efficient_circuit, fs_hamiltonian)\n",
    "fs_he_parameters = np.random.rand(len(hardware_efficient_circuit.get_parameters()))\n",
    "vqe_he_fs, fs_he_parameters, _result = fs_he_vqe.minimize(fs_he_parameters)"
   ]
  },
  {
   "cell_type": "code",
   "execution_count": 12,
   "id": "87a0f0d2-4ecb-4ae2-924b-b9966cddab58",
   "metadata": {},
   "outputs": [
    {
     "name": "stdout",
     "output_type": "stream",
     "text": [
      "Expectation value of molecular Hamiltonian: -0.5218646499884056\n"
     ]
    }
   ],
   "source": [
    "# Expectation value of the molecular Hamiltonian\n",
    "hardware_efficient_circuit.set_parameters(fs_he_parameters)\n",
    "print(f\"Expectation value of molecular Hamiltonian: {expectation(hardware_efficient_circuit, hamiltonian)}\")"
   ]
  },
  {
   "cell_type": "markdown",
   "id": "73fdcf31-03a2-4878-b4ea-e41479315e96",
   "metadata": {},
   "source": [
    "This time, we should be able to find the second lowest eigenvalue for the molecular Hamiltonian ($-0.521...$).\n",
    "(If not, try re-running VQE in the cell immediately above)\n",
    "\n",
    "Lastly, let's try to 'scan' through a range of values for the $\\omega$ hyperparameter in building the folded spectrum Hamiltonian, and see if we can find all the eigenvalues of the molecular Hamiltonian."
   ]
  },
  {
   "cell_type": "code",
   "execution_count": 13,
   "id": "0bceeb09-12b1-4257-ae98-9dfc1d237aaa",
   "metadata": {},
   "outputs": [],
   "source": [
    "# Define a function to find the eigenvalue w.r.t. \\omega\n",
    "\n",
    "def find_excited_state(hamiltonian, omega, circuit):\n",
    "    \"\"\"\n",
    "    For a given Hamiltonian, construct the folded spectum Hamiltonian w.r.t. omega, and run VQE to find the excited state\n",
    "    for the original Hamiltonian\n",
    "\n",
    "    Args:\n",
    "        hamiltonian: Original Hamiltonian of interest\n",
    "        omega: Value to fold the original Hamiltonian about\n",
    "        circuit: Circuit ansatz for running VQE\n",
    "\n",
    "    Returns:\n",
    "        float: Result of folded spectrum Hamiltonian approach\n",
    "    \"\"\"\n",
    "    dummy = Molecule()  # Dummy Molecule for calling the fs_hamiltonian() method\n",
    "    fs_ham = dummy.fs_hamiltonian(omega, hamiltonian)\n",
    "\n",
    "    fs_ham_min = None\n",
    "    optimal_parameters = None\n",
    "    # Run VQE a number of times to reduce randomness\n",
    "    for _ in range(3):\n",
    "        fs_vqe = VQE(circuit, fs_ham)\n",
    "        fs_parameters = np.random.rand(len(circuit.get_parameters()))\n",
    "        vqe_fs, fs_parameters, _result = fs_vqe.minimize(fs_parameters)\n",
    "        if fs_ham_min is None or vqe_fs < fs_ham_min:\n",
    "            fs_ham_min = vqe_fs\n",
    "            optimal_parameters = fs_parameters.copy()\n",
    "\n",
    "    # Expectation value of the original Hamiltonian with the optimal circuit parameters\n",
    "    circuit.set_parameters(fs_parameters)\n",
    "    return expectation(circuit, hamiltonian)"
   ]
  },
  {
   "cell_type": "markdown",
   "id": "986dcee3-f781-49f2-b6d4-359343d3167e",
   "metadata": {},
   "source": [
    "Note: The following cell might take a few minutes to run!"
   ]
  },
  {
   "cell_type": "code",
   "execution_count": 14,
   "id": "78ee5f16-fad8-485e-87d8-95a11d222596",
   "metadata": {},
   "outputs": [
    {
     "name": "stdout",
     "output_type": "stream",
     "text": [
      "Omega: -1.136 - Result: -0.8261368380567876\n",
      "Omega: -0.936 - Result: -0.521877748079525\n",
      "Omega: -0.736 - Result: -0.47844387869591226\n",
      "Omega: -0.536 - Result: -0.4999856900176871\n",
      "Omega: -0.336 - Result: -0.40319766424708275\n",
      "Omega: -0.136 - Result: -0.1204527021407872\n",
      "Omega: 0.064 - Result: -0.12044517292576745\n",
      "Omega: 0.264 - Result: 0.30766705681384154\n",
      "Omega: 0.464 - Result: 0.4490856550194576\n",
      "Omega: 0.664 - Result: 0.6692613667194789\n",
      "Omega: 0.864 - Result: 0.7559671436349591\n"
     ]
    }
   ],
   "source": [
    "for shift in np.arange(0.0, 2.1, 0.2):\n",
    "    omega = vqe_ground + shift\n",
    "    print(f\"Omega: {omega:.3f} - Result: {find_excited_state(hamiltonian, omega, hardware_efficient_circuit)}\")"
   ]
  },
  {
   "cell_type": "markdown",
   "id": "86a3bc0d-4932-4c46-bf29-20a0ed5e9beb",
   "metadata": {},
   "source": [
    "blah blah blah"
   ]
  }
 ],
 "metadata": {
  "kernelspec": {
   "display_name": "Python 3 (ipykernel)",
   "language": "python",
   "name": "python3"
  },
  "language_info": {
   "codemirror_mode": {
    "name": "ipython",
    "version": 3
   },
   "file_extension": ".py",
   "mimetype": "text/x-python",
   "name": "python",
   "nbconvert_exporter": "python",
   "pygments_lexer": "ipython3",
   "version": "3.12.11"
  }
 },
 "nbformat": 4,
 "nbformat_minor": 5
}
