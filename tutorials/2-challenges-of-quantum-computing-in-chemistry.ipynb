{
 "cells": [
  {
   "cell_type": "markdown",
   "id": "5158ac21",
   "metadata": {},
   "source": [
    "# VQE: Computational cost v.s. performance\n",
    "\n",
    "Today, the main challenge in using VQE for chemistry is finding a balance between the required computational costs and the accuracy of the obtained results.\n",
    "In other words, a circuit ansatz generally becomes better at modelling the electronic wave function as more gates are included in the ansatz.\n",
    "However, the circuit depth that can be implemented on an actual physical quantum computer is still limited by the level of quantum hardware today.\n",
    "\n",
    "**(ZC note: Not a nice sentence...)**\n",
    "Hence, the question of how to reduce the circuit depth without losing too much accuracy is an active area of research today.\n",
    "We will explore the issue of circuit complexity v.s. accuracy using a slightly larger molecule, LiH, in this notebook.\n",
    "\n",
    "\n",
    "#### Sidenote: Chemical accuracy\n",
    "\n",
    "- Energy available at room temperature:\n",
    "    - RT = 8.31 J mol$^{-1}$ K$^{-1}$ * 300 K = 2.5 kJ/mol"
   ]
  },
  {
   "cell_type": "code",
   "execution_count": null,
   "id": "d57d0e76",
   "metadata": {},
   "outputs": [],
   "source": [
    "import numpy as np\n",
    "\n",
    "import openfermion\n",
    "\n",
    "# Molecule class to store the molecular integrals and other relevant quantities\n",
    "from qibochem.driver import Molecule"
   ]
  },
  {
   "cell_type": "code",
   "execution_count": null,
   "id": "7cbd4113",
   "metadata": {},
   "outputs": [],
   "source": [
    "lih = Molecule(xyz_file='lih.xyz')\n",
    "lih.run_pyscf()"
   ]
  },
  {
   "cell_type": "markdown",
   "id": "209586ed",
   "metadata": {},
   "source": [
    "### HF Embedding\n",
    "\n",
    "\n",
    "It is known that the core-shell electrons in a molecule (i.e. the electrons occupying the 1s orbitals on atoms larger than H or He) only affects a molecule's physical and chemical properties weakly.\n",
    "Hence, one simplifiying approximation is to 'freeze' these core electrons, leaving them out of the quantum simulation, while still partially including their effect on the other electrons.\n",
    "\n",
    "More specifically, the electrons are embedded in \"a classically computed environment obtained at the Hartree-Fock (HF) ...  level of theory\", and is known as [Hartree-Fock embedding](https://dx.doi.org/10.1063/5.0029536).\n",
    "Similarly, the virtual (unoccupied) orbitals that are not expected to play a significant part in chemical bonding can also be removed from the quantum simulation.\n",
    "\n",
    "***\n",
    "\n",
    "The `hf_embedding` class function fills in the class attributes related to HF embedding.\n",
    "We demonstrate how to use it in Qibochem in the cells below: "
   ]
  },
  {
   "cell_type": "code",
   "execution_count": null,
   "id": "d95c8a4b",
   "metadata": {},
   "outputs": [],
   "source": [
    "# First, a rough guide as to how to choose what orbitals to keep/remove\n",
    "print(f\"HF orbital energies: {lih.eps}\")"
   ]
  },
  {
   "cell_type": "markdown",
   "id": "f8f2b7b1",
   "metadata": {},
   "source": [
    "The energy of the first molecular orbital is significantly lower than the others; this is the 1s orbital on Li, and can be removed.\n",
    "We can also remove molecular orbitals 4 and 5 by symmetry considerations.\n",
    "Aligning the LiH molecule along the z-axis, these two orbitals are the $2p_x$ and $2p_y$ orbitals, which are orthogonal to the Li-H bond.\n",
    "Hence, they should not have much of an effect on the bonding in LiH, and can be removed."
   ]
  },
  {
   "cell_type": "code",
   "execution_count": null,
   "id": "f6800b61",
   "metadata": {},
   "outputs": [],
   "source": [
    "# These are the class attributes that will be filled after running hf_embedding:\n",
    "\n",
    "# Before turning on embedding:\n",
    "# print(lih.embed_oei)\n",
    "# print(lih.embed_tei)\n",
    "print(\"Inactive Fock energy:\", lih.inactive_energy)\n",
    "print(\"Number of active molecular orbitals:\", lih.n_active_orbs)\n",
    "print(\"Number of active electrons:\", lih.n_active_e)"
   ]
  },
  {
   "cell_type": "code",
   "execution_count": null,
   "id": "62107c4a",
   "metadata": {},
   "outputs": [],
   "source": [
    "# After running hf_embedding:\n",
    "active = [1, 2, 5] # Python indexes from 0\n",
    "lih.hf_embedding(active=active)\n",
    "\n",
    "# print(lih.embed_oei)\n",
    "# print(lih.embed_tei)\n",
    "print(\"Inactive Fock energy:\", lih.inactive_energy)\n",
    "print(\"Number of active molecular orbitals:\", lih.n_active_orbs)\n",
    "print(\"Number of active electrons:\", lih.n_active_e)"
   ]
  },
  {
   "cell_type": "markdown",
   "id": "d64b469b",
   "metadata": {},
   "source": [
    "Compare the difference in the length of the molecular fermionic Hamiltonian with and without applying embedding:"
   ]
  },
  {
   "cell_type": "code",
   "execution_count": null,
   "id": "c18e626d",
   "metadata": {},
   "outputs": [],
   "source": [
    "# Without embedding:\n",
    "fermionic_hamiltonian = lih.hamiltonian(\"f\", oei=lih.oei, tei=lih.tei, constant=0.0)\n",
    "# We needed to include the oei/tei/constant arguments because the .hamiltonian() function will check if embedding has been carried out and defines the \n",
    "# molecular Hamiltonian accordingly.\n",
    "\n",
    "embedded_fermionic_hamiltonian = lih.hamiltonian(\"f\")\n",
    "\n",
    "print(f\"Number of terms without HF embedding: {len(fermionic_hamiltonian.terms)}\")\n",
    "print(f\"Number of terms with HF embedding: {len(embedded_fermionic_hamiltonian.terms)}\")"
   ]
  },
  {
   "cell_type": "markdown",
   "id": "b007f3b6",
   "metadata": {},
   "source": [
    "The number of terms in the fermionic Hamiltonian decreased by more than 5 times!\n",
    "\n",
    "***\n",
    "\n",
    "Next, we check that the electronic energy should be largely unchanged after applying HF embedding by diagonalizing both Hamiltonians exactly:\n",
    "\n",
    "Warning: Diagonalizing the Hamiltonian exactly is only possible for small systems!"
   ]
  },
  {
   "cell_type": "code",
   "execution_count": null,
   "id": "417b8fba",
   "metadata": {},
   "outputs": [],
   "source": [
    "from scipy.sparse import linalg\n",
    "\n",
    "hamiltonian_matrix = openfermion.get_sparse_operator(fermionic_hamiltonian)\n",
    "eigenvalues, _ = linalg.eigsh(hamiltonian_matrix, k=6, which=\"SA\")\n",
    "\n",
    "exact_result = eigenvalues[0]\n"
   ]
  },
  {
   "cell_type": "code",
   "execution_count": null,
   "id": "f4c013c4",
   "metadata": {},
   "outputs": [],
   "source": [
    "embedded_hamiltonian_matrix = openfermion.get_sparse_operator(embedded_fermionic_hamiltonian)\n",
    "eigenvalues, _ = linalg.eigsh(embedded_hamiltonian_matrix, k=6, which=\"SA\")\n",
    "\n",
    "embedded_exact_result = eigenvalues[0]\n"
   ]
  },
  {
   "cell_type": "code",
   "execution_count": null,
   "id": "2eb1f68d",
   "metadata": {},
   "outputs": [],
   "source": [
    "print(f\"Exact result without embedding: {exact_result}\")\n",
    "print(f\"   Exact result with embedding: {embedded_exact_result}\")"
   ]
  },
  {
   "cell_type": "markdown",
   "id": "aeebaee3",
   "metadata": {},
   "source": [
    "So, we see that reducing the number of terms in the molecular Hamiltonian by about four-fifth's only leads to a difference between the exact results for both Hamiltonians of about only 1e-4!\n",
    "\n",
    "---\n",
    "\n",
    "### Encoding the molecular fermion Hamiltonian\n",
    "\n",
    "In the previous notebook, we used the Jordan-Wigner transformation to map the occupancy of a spin-orbital to the Pauli Z state of a qubit directly.\n",
    "We will use the Brayvi-Kitaev map in this notebook, which produces less terms in the qubit Hamiltonian for larger systems."
   ]
  },
  {
   "cell_type": "code",
   "execution_count": null,
   "id": "69020234",
   "metadata": {},
   "outputs": [],
   "source": [
    "jw_mol_hamiltonian = openfermion.jordan_wigner(embedded_fermionic_hamiltonian)\n",
    "bk_mol_hamiltonian = openfermion.bravyi_kitaev(embedded_fermionic_hamiltonian)\n",
    "\n",
    "print(f\"Number of terms (JW): {len(jw_mol_hamiltonian.terms)}\")\n",
    "print(f\"Number of terms (BK): {len(bk_mol_hamiltonian.terms)}\")"
   ]
  },
  {
   "cell_type": "markdown",
   "id": "8f9a1dcf",
   "metadata": {},
   "source": [
    "Note: The threshold for the BK mapping outperforming JW is about 16 qubits (IIRC), so we don't see a difference for the small LiH system"
   ]
  },
  {
   "cell_type": "markdown",
   "id": "b9ac0683",
   "metadata": {},
   "source": [
    "## Ansatz: Unitary coupled-cluster\n",
    "\n",
    "### Quantum Chemistry: Post-Hartree-Fock methods\n",
    "\n",
    "- Limitations of Hartree-Fock:\n",
    "    - No electron correlation, i.e. electrons don't 'see' the other individual electrons, and only 'see' the overall 'electron cloud'\n",
    "    - Cannot fully describe a chemical reaction\n",
    "        - E.g. $N_2$ as the N atoms are separated\n",
    "            - Hartree-Fock cannot completely describe which electrons 'go' to which of the two N atoms\n",
    "\n",
    "- Post-Hartree-Fock methods:\n",
    "    - Hartree-Fock wave function used as a starting point, then aim to improve the treatment of electron correlation\n",
    "    - E.g. allow the electrons to be placed into higher energy molecular orbitals, and include these cases in the treatment of the ground state wave function"
   ]
  },
  {
   "cell_type": "markdown",
   "id": "0c79f9af",
   "metadata": {
    "slideshow": {
     "slide_type": "slide"
    }
   },
   "source": [
    "### Unitary Coupled-Cluster (UCC):\n",
    "\n",
    "$$\n",
    "\\exp(\\hat{T} - \\hat{T}^\\dagger) \\lvert \\Psi_{HF} \\rangle\n",
    "$$\n",
    "\n",
    "- Excitation operator $\\hat{T}$ acts on the Hartree-Fock wave function \n",
    "    1. Annihilates one or more electrons from the occupied orbitals\n",
    "    2. Creates the same number of annihilated electrons in the unoccupied orbitals\n",
    "-  Typically only consider up to 2 electrons being excited\n",
    "    - **S**ingles and **D**oubles $\\implies$ UCCSD\n",
    "\n",
    "$$\n",
    "\\hat{T} = \\hat{T}_1 + \\hat{T}_2\n",
    "$$\n",
    "\n",
    "$$\n",
    "\\text{with } \\hat{T}_1 = \\sum_{i \\in \\text{occ.} \\\\ a \\in \\text{unocc.}} \\hat{a}_a^\\dagger \\hat{a}_i\n",
    "$$\n",
    "\n",
    "$$\n",
    "\\hat{T}_2 = \\sum_{i,j \\in \\text{occ.} \\\\ a,b \\in \\text{unocc.}} \\hat{a}_b^\\dagger \\hat{a}_a^\\dagger \\hat{a}_j \\hat{a}_i\n",
    "$$\n",
    "\n",
    "\n",
    "#### UCCSD on a quantum computer\n",
    "\n",
    "1. As was done for the molecular Hamiltonian, apply a fermion-to-qubit mapping on the fermionic creation/annihilation operators in the UCC operator\n",
    "\n",
    "$$\n",
    "\\exp \\left( \\sum_{i} ( \\hat{T}_i - \\hat{T}_i^\\dagger ) \\right)\n",
    "= \\exp ( \\sum_{i}  \\hat{P}_i  ) \n",
    "\\text{, where $\\hat{P}_i$ is a Pauli string}\n",
    "$$\n",
    "\n",
    "2. Result: Exponential of a sum of Pauli strings \n",
    "    - Apply Trotterization approximation, i.e. exponential of sum $\\approx$ product of exponentials\n",
    "\n",
    "$$\n",
    "\\exp ( \\sum_{i}  \\hat{P}_i  ) \\approx \\prod_i (\\exp \\hat{P}_i )\n",
    "$$\n",
    "\n",
    "3. After Trotterization, apply the exp$(\\hat{P}_i)$ term corresponding to a singles/doubles excitation to the quantum circuit\n",
    "    - Note: Exact order of excitations being applied has been found to affect final optimized energy"
   ]
  },
  {
   "cell_type": "code",
   "execution_count": null,
   "id": "26d1c6e0",
   "metadata": {
    "slideshow": {
     "slide_type": "slide"
    }
   },
   "outputs": [],
   "source": [
    "# UCCSD ansatz with Qibochem\n",
    "from qibochem.ansatz import hf_circuit, ucc_circuit"
   ]
  },
  {
   "cell_type": "code",
   "execution_count": null,
   "id": "28f07ec4",
   "metadata": {},
   "outputs": [],
   "source": [
    "# Example: UCC with LiH\n",
    "\n",
    "# Define a double excitation from the first two spin-orbitals (after embedding!) to the next two\n",
    "excitation = [0, 1, 2, 3]\n",
    "\n",
    "# Build the UCC circuit with the JW map\n",
    "# UCC is a post-HF method, hence the need to start with a HF ansatz\n",
    "circuit = hf_circuit(lih.n_active_orbs, lih.n_active_e)\n",
    "circuit += ucc_circuit(n_qubits=lih.n_active_orbs, excitation=excitation)\n",
    "print(circuit.draw())\n",
    "print()\n",
    "print(\"Circuit summary:\")\n",
    "print(circuit.summary())"
   ]
  },
  {
   "cell_type": "code",
   "execution_count": null,
   "id": "239f5fb4",
   "metadata": {},
   "outputs": [],
   "source": [
    "# Build the UCC circuit with the BK map\n",
    "# UCC is a post-HF method, hence the need to start with a HF ansatz\n",
    "circuit = hf_circuit(lih.n_active_orbs, lih.n_active_e, ferm_qubit_map='bk')\n",
    "circuit += ucc_circuit(n_qubits=lih.n_active_orbs, excitation=excitation, ferm_qubit_map='bk')\n",
    "\n",
    "print(circuit.draw())\n",
    "print()\n",
    "print(\"Circuit summary:\")\n",
    "print(circuit.summary())"
   ]
  },
  {
   "cell_type": "markdown",
   "id": "88766142",
   "metadata": {},
   "source": [
    "- Notes:\n",
    "    - Both circuits can be compiled further, e.g. consecutive --H--H-- gates on the same qubit can be cancelled out\n",
    "    - JW mapping requires more gates (greater circuit depth), but only needs nearest-neighbour circuit connectivity\n",
    "    - BK mapping has a lower circuit depth, but may require additional SWAP gates depending on the quantum hardware\n",
    "    \n",
    "Next, we confirm that both circuits are equivalent:"
   ]
  },
  {
   "cell_type": "code",
   "execution_count": null,
   "id": "6ae4b55e",
   "metadata": {},
   "outputs": [],
   "source": [
    "# Convert the JW/BK qubit Hamiltonians to SymbolicHamiltonians\n",
    "from qibochem.driver.hamiltonian import qubit_to_symbolic_hamiltonian\n",
    "\n",
    "jw_sym_hamiltonian = qubit_to_symbolic_hamiltonian(jw_mol_hamiltonian)\n",
    "bk_sym_hamiltonian = qubit_to_symbolic_hamiltonian(bk_mol_hamiltonian)"
   ]
  },
  {
   "cell_type": "code",
   "execution_count": null,
   "id": "2cc4ff86-a8e4-47f9-88d0-5c6186af32c4",
   "metadata": {},
   "outputs": [],
   "source": [
    "from qibochem.measurement import expectation"
   ]
  },
  {
   "cell_type": "code",
   "execution_count": null,
   "id": "0b0e78d2",
   "metadata": {},
   "outputs": [],
   "source": [
    "# Run test 3 times\n",
    "for _ in range(3):\n",
    "    # Random initialization\n",
    "    theta = np.random.rand(1)\n",
    "    print(f\"Random initial theta: {theta[0]}\") # Theta should be an array of dim=8\n",
    "\n",
    "    # JW circuit\n",
    "    jw_circuit = hf_circuit(lih.n_active_orbs, lih.n_active_e)\n",
    "    jw_circuit += ucc_circuit(n_qubits=lih.n_active_orbs, excitation=excitation, theta=theta)\n",
    "\n",
    "    # BK circuit\n",
    "    bk_circuit = hf_circuit(lih.n_active_orbs, lih.n_active_e, ferm_qubit_map='bk')\n",
    "    bk_circuit += ucc_circuit(n_qubits=lih.n_active_orbs, excitation=excitation, ferm_qubit_map='bk', theta=theta)\n",
    "\n",
    "    # Energy expectation value for both circuits\n",
    "    print(f\"JW-UCC energy: {expectation(jw_circuit, jw_sym_hamiltonian)}\")\n",
    "    print(f\"BK-UCC energy: {expectation(bk_circuit, bk_sym_hamiltonian)}\")\n",
    "    print()"
   ]
  },
  {
   "cell_type": "markdown",
   "id": "39e48fca",
   "metadata": {},
   "source": [
    "For the same $\\theta$, both circuits yield the same energy expectation value.\n",
    "We are more confident that the circuits (when used with their respective Hamiltonians) are equivalent.\n",
    "\n",
    "The next step is then to run a VQE to minimize the electronic energy of our LiH system.\n"
   ]
  },
  {
   "cell_type": "code",
   "execution_count": null,
   "id": "03934280",
   "metadata": {},
   "outputs": [],
   "source": [
    "from qibo import models\n",
    "from qibo.optimizers import optimize"
   ]
  },
  {
   "cell_type": "code",
   "execution_count": null,
   "id": "70e236b9",
   "metadata": {},
   "outputs": [],
   "source": [
    "%%time\n",
    "\n",
    "# Example: Using the VQE class from Qibo:\n",
    "bk_circuit = hf_circuit(lih.n_active_orbs, lih.n_active_e, ferm_qubit_map='bk')\n",
    "bk_circuit += ucc_circuit(n_qubits=lih.n_active_orbs, excitation=excitation, ferm_qubit_map='bk')\n",
    "\n",
    "# Get the number of paramerized gates\n",
    "n_param_gates = len(bk_circuit.get_parameters())\n",
    "\n",
    "# Create the VQE model\n",
    "vqe = models.VQE(bk_circuit, bk_sym_hamiltonian)\n",
    "\n",
    "# Optimize starting from a random guess for the variational parameters\n",
    "initial_parameters = np.random.uniform(0, 2*np.pi,\n",
    "                                        n_param_gates)\n",
    "\n",
    "best, params, extra = vqe.minimize(initial_parameters, method='BFGS')# , compile=False) "
   ]
  },
  {
   "cell_type": "code",
   "execution_count": null,
   "id": "bd149bf1",
   "metadata": {},
   "outputs": [],
   "source": [
    "print(\"Results:\")\n",
    "print(f\"{' ':>4}VQE energy: {best}\\n\")\n",
    "\n",
    "print(f\"{' ':>5}HF energy: {lih.e_hf}\")\n",
    "# Exact groundstate energy of H2 as a reference\n",
    "print(f\"Exact solution: {embedded_exact_result}\")"
   ]
  },
  {
   "cell_type": "markdown",
   "id": "42d201fc",
   "metadata": {},
   "source": [
    "The VQE energy only differs from the initial HF energy because the current circuit ansatz only includes a single excitation.\n",
    "But before we extend the circuit ansatz by including more excitations, there is an additional step that we can take to speed up the optimization.\n",
    "\n",
    "---\n",
    "\n",
    "Ths problem with using the `VQE` class directly from Qibo is that it ignores the fact that the absolute value of all 8 parameters should be equal."
   ]
  },
  {
   "cell_type": "code",
   "execution_count": null,
   "id": "e87e02ff",
   "metadata": {},
   "outputs": [],
   "source": [
    "print(f\"Are all the parameters equal? {len(np.unique(np.abs(params), return_counts=True)[0])==1}\")\n",
    "print(f\"\\nOptimized parameters: {np.abs(params)}\")"
   ]
  },
  {
   "cell_type": "markdown",
   "id": "12a487f2",
   "metadata": {},
   "source": [
    "Hence, it's probably more correct (and potentially faster) to define a [custom variational ciruit](https://qibo.readthedocs.io/en/stable/code-examples/advancedexamples.html#how-to-write-a-custom-variational-circuit-optimization) instead."
   ]
  },
  {
   "cell_type": "code",
   "execution_count": null,
   "id": "6fbb29fb",
   "metadata": {},
   "outputs": [],
   "source": [
    "%%time\n",
    "\n",
    "bk_circuit = hf_circuit(lih.n_active_orbs, lih.n_active_e, ferm_qubit_map='bk')\n",
    "bk_circuit += ucc_circuit(n_qubits=lih.n_active_orbs,\n",
    "                          excitation=excitation,\n",
    "                          ferm_qubit_map='bk',\n",
    "                         )\n",
    "# The sign of the individual circuit parameters depends on the fermion-to-qubit map used, and is given here for convenience\n",
    "coeff_dict = {\n",
    "    \"bk\": np.array([-0.25, -0.25, 0.25, 0.25, 0.25, 0.25, -0.25, -0.25]),\n",
    "    \"jw\": np.array([-0.25, 0.25, 0.25, 0.25, -0.25, -0.25, -0.25, 0.25])\n",
    "}\n",
    "\n",
    "# Custom loss function; i.e. electronic energy of LiH\n",
    "def electronic_energy(parameter):\n",
    "    coeffs = coeff_dict[\"bk\"]\n",
    "    # Convert a single value to a array with dimension=n_param_gates\n",
    "    parameters = np.repeat(parameter, len(coeffs))\n",
    "    # Multiply by the correct coeffs\n",
    "    parameters *= coeffs\n",
    "\n",
    "    bk_circuit.set_parameters(parameters)\n",
    "\n",
    "    return expectation(bk_circuit, bk_sym_hamiltonian)\n",
    "\n",
    "\n",
    "# Optimize starting from a random guess for the variational parameters\n",
    "theta = np.random.rand(1)\n",
    "\n",
    "# Perform optimization\n",
    "best_v2, params_v2, extra_v2 = optimize(electronic_energy, theta)# , method='BFGS')"
   ]
  },
  {
   "cell_type": "code",
   "execution_count": null,
   "id": "5c91d7c0",
   "metadata": {},
   "outputs": [],
   "source": [
    "print(\"Results:\")\n",
    "print(f\"{' ':>4}VQE energy: {best_v2} (Current run)\")\n",
    "print(f\"{' ':>4}VQE energy: {best_v2} (Earlier run)\\n\")\n",
    "\n",
    "print(f\"{' ':>5}HF energy: {lih.e_hf}\")\n",
    "# Exact groundstate energy of H2 as a reference\n",
    "print(f\"Exact solution: {embedded_exact_result}\")"
   ]
  },
  {
   "cell_type": "code",
   "execution_count": null,
   "id": "d83edca8",
   "metadata": {},
   "outputs": [],
   "source": [
    "print(f\"Are all the parameters equal? {len(np.unique(params_v2, return_counts=True)[0])==1}\")\n",
    "print(f\"\\nOptimized parameters: {params_v2}\")"
   ]
  },
  {
   "cell_type": "markdown",
   "id": "70b93ac0",
   "metadata": {},
   "source": [
    "Although both results are the same, the second approach, of using a custom variational circuit should be a lot faster!\n",
    "\n",
    "***\n",
    "\n",
    "#### Full VQE-UCCSD with LiH\n",
    "\n",
    "The above example was for a single double excitation.\n",
    "Next, we will use the full UCCSD ansatz to find the electronic energy of LiH, and assess its performance."
   ]
  },
  {
   "cell_type": "code",
   "execution_count": null,
   "id": "de8fdd4a",
   "metadata": {},
   "outputs": [],
   "source": [
    "# Generate all single and double excitations first\n",
    "s_excitations = [[_e, _orb] for _e in range(lih.n_active_e)\n",
    "                 for _orb in range(lih.n_active_e, lih.n_active_orbs)\n",
    "                 if (_e + _orb) % 2 == 0 # Spin-conservation\n",
    "                ]\n",
    "d_excitations = [[_e1, _e2, _orb1, _orb2]\n",
    "                 for _e1 in range(lih.n_active_e)\n",
    "                 for _e2 in range(_e1+1, lih.n_active_e)\n",
    "                 for _orb1 in range(lih.n_active_e, lih.n_active_orbs)\n",
    "                 for _orb2 in range(_orb1+1, lih.n_active_orbs)\n",
    "                 # Spin-conservation\n",
    "                 if (_e1 + _e2 + _orb1 + _orb2) % 2 == 0\n",
    "                ]\n",
    "\n",
    "\n",
    "print(\"Single excitations:\", s_excitations)\n",
    "print(\"Double excitations:\", d_excitations)"
   ]
  },
  {
   "cell_type": "code",
   "execution_count": null,
   "id": "4645ba34",
   "metadata": {},
   "outputs": [],
   "source": [
    "# Empirically, the pair excitations should go first, so we re-order d_excitation slightly\n",
    "d_excitations = sorted(d_excitations,\n",
    "                      key=lambda x: 10*(x[-2] % 2) + x[-1] - x[-2] # Very contrived lambda for sorting\n",
    "                     )\n",
    "print(\"Double excitations (after sorting):\", d_excitations)\n",
    "\n",
    "# Then we pair the single excitations involving the same set of molecular orbitals together (manually)\n",
    "s_excitations = [s_excitations[0], s_excitations[2], s_excitations[1], s_excitations[3]]\n",
    "\n",
    "# Combine the single and double excitations into a single list\n",
    "# Again, empirically, putting the double excitations first is seems to be stable\n",
    "all_excitations = d_excitations + s_excitations\n",
    "print(\"\\nAll excitations:\", all_excitations)\n",
    "n_excitations = len(all_excitations)\n",
    "print(\"\\nNumber of excitations:\", n_excitations)"
   ]
  },
  {
   "cell_type": "code",
   "execution_count": null,
   "id": "577a7484",
   "metadata": {},
   "outputs": [],
   "source": [
    "# Now build the full UCCSD circuit\n",
    "bk_uccsd_circuit = hf_circuit(lih.n_active_orbs, lih.n_active_e, ferm_qubit_map='bk')\n",
    "# Add gates corresponding to each excitation\n",
    "for _ex in all_excitations:\n",
    "    bk_uccsd_circuit += ucc_circuit(n_qubits=lih.n_active_orbs,\n",
    "                              excitation=_ex,\n",
    "                              ferm_qubit_map='bk',\n",
    "                             )\n",
    "    \n",
    "# Visualise the resultant circuit\n",
    "print(bk_uccsd_circuit.draw())"
   ]
  },
  {
   "cell_type": "code",
   "execution_count": null,
   "id": "50eede6f",
   "metadata": {},
   "outputs": [],
   "source": [
    "%%time\n",
    "\n",
    "# Lastly, the actual optimization\n",
    "\n",
    "# Redefine the custom loss function for the full UCCSD\n",
    "def uccsd_electronic_energy(parameters):\n",
    "    # Coefficients for the circuit parameters for single/double excitations with the BK fermion to qubit map\n",
    "    bk_coeffs = {1: (-1.0, -1.0), 2: (-0.25, -0.25, 0.25, 0.25, 0.25, 0.25, -0.25, -0.25)}\n",
    "\n",
    "    all_parameters = []\n",
    "    # Need to iterate through each excitation this time\n",
    "    for _ex, parameter in zip(all_excitations, parameters):\n",
    "        coeffs = bk_coeffs[len(_ex) // 2]\n",
    "        # Convert a single value to a array with dimension=n_param_gates\n",
    "        ucc_parameter = np.repeat(parameter, len(coeffs))\n",
    "        # Multiply by coeffs\n",
    "        ucc_parameter *= coeffs\n",
    "        all_parameters.append(ucc_parameter)\n",
    "\n",
    "    # Flatten all_parameters into a single list\n",
    "    all_parameters = [_x for _param in all_parameters for _x in _param]\n",
    "    bk_uccsd_circuit.set_parameters(all_parameters)\n",
    "\n",
    "    return expectation(bk_uccsd_circuit, bk_sym_hamiltonian)\n",
    "\n",
    "\n",
    "# Optimize starting from a random guess for the variational parameters\n",
    "# thetas = np.random.rand(n_excitations)\n",
    "# Starting from zeros is possible too!\n",
    "thetas = np.zeros(n_excitations)\n",
    "# # Perform optimization\n",
    "uccsd_best, uccsd_params, uccsd_extra = optimize(uccsd_electronic_energy, thetas, method='BFGS')"
   ]
  },
  {
   "cell_type": "code",
   "execution_count": null,
   "id": "c01eeed5",
   "metadata": {},
   "outputs": [],
   "source": [
    "print(\"Results:\")\n",
    "print(f\"{' ':>5}HF energy: {lih.e_hf}\")\n",
    "print(f\"{' ':>4}VQE energy: {best_v2} (Only one double excitation)\\n\")\n",
    "\n",
    "print(f\"{' ':>4}VQE energy: {uccsd_best} (Current run)\")\n",
    "# Exact groundstate energy of H2 as a reference\n",
    "print(f\"Exact solution: {embedded_exact_result}\")"
   ]
  },
  {
   "cell_type": "markdown",
   "id": "888e7757",
   "metadata": {},
   "source": [
    "The result should be better than the run with only one double excitation, and should also come quite close to the exact solution.\n",
    "\n",
    "Lastly, take note of the circuit statistics (printed below).\n",
    "Based on the length of the circuit, the probability of it running completely should be unfortunately quite low...\n"
   ]
  },
  {
   "cell_type": "code",
   "execution_count": null,
   "id": "f2a68965",
   "metadata": {},
   "outputs": [],
   "source": [
    "print(bk_uccsd_circuit.summary())"
   ]
  },
  {
   "cell_type": "markdown",
   "id": "e8080380",
   "metadata": {},
   "source": [
    "## Ansatz: Hardware-efficient\n",
    "\n",
    "As per its name, the [hardware-efficient ansatz](https://www.nature.com/articles/nature23879) was designed such that it could be used on current quantum hardware.\n",
    "Essentially, it is a general ansatz that can be used in a variety of applications.\n",
    "We have already used it in the first notebook for $H_2$, and will compare its performance for $LiH$ against the UCCSD ansatz here."
   ]
  },
  {
   "cell_type": "code",
   "execution_count": null,
   "id": "d35684b5",
   "metadata": {},
   "outputs": [],
   "source": [
    "from qibochem.ansatz import he_circuit"
   ]
  },
  {
   "cell_type": "code",
   "execution_count": null,
   "id": "aa9fe771",
   "metadata": {
    "slideshow": {
     "slide_type": "-"
    }
   },
   "outputs": [],
   "source": [
    "# Let's start with a single layer first\n",
    "h_circuit = he_circuit(n_qubits=lih.n_active_orbs, n_layers=1, coupling_gates=\"CNOT\")\n",
    "print(circuit.draw())"
   ]
  },
  {
   "cell_type": "code",
   "execution_count": null,
   "id": "ed019d1f",
   "metadata": {
    "slideshow": {
     "slide_type": "-"
    }
   },
   "outputs": [],
   "source": [
    "# Get the number of paramerized gates\n",
    "n_param_gates = len(h_circuit.get_parameters())\n",
    "\n",
    "# No restrictions for the parameters; can use the VQE class directly\n",
    "he_vqe = models.VQE(h_circuit, bk_sym_hamiltonian)"
   ]
  },
  {
   "cell_type": "code",
   "execution_count": null,
   "id": "5f05bcdd",
   "metadata": {},
   "outputs": [],
   "source": [
    "%%time\n",
    "\n",
    "# Optimize starting from a random guess for the variational parameters\n",
    "initial_parameters = np.random.uniform(0, 2*np.pi,\n",
    "                                        n_param_gates)\n",
    "he_best, he_params, he_extra = he_vqe.minimize(initial_parameters)# method='BFGS', compile=False) "
   ]
  },
  {
   "cell_type": "code",
   "execution_count": null,
   "id": "42c02f21",
   "metadata": {},
   "outputs": [],
   "source": [
    "print(\"Results:\")\n",
    "print(f\"{' ':>5}HF energy: {lih.e_hf}\")\n",
    "# print(f\"{' ':>4}VQE energy: {uccsd_best} (UCCSD)\\n\")\n",
    "\n",
    "print(f\"{' ':>4}VQE energy: {he_best} (Hardware-efficient)\")\n",
    "# Exact groundstate energy of H2 as a reference\n",
    "print(f\"Exact solution: {embedded_exact_result}\")"
   ]
  },
  {
   "cell_type": "markdown",
   "id": "360637ee",
   "metadata": {},
   "source": [
    "### Barren plateau problem:\n",
    "\n",
    "For a single layer, the quality of results is largely arbitrary.\n",
    "Depending on the initial set of random parameters, we might reach some local minimum (e.g. HF energy), and might never obtain the true global minimum, or even a solution close to it.\n",
    "(The time taken for the optimization can also vary.)\n",
    "\n",
    "***\n",
    "\n",
    "To improve the performance of the hardware-efficient ansatz, we need to add more layers of entangling gates, to improve the expressibility of the ansatz."
   ]
  },
  {
   "cell_type": "code",
   "execution_count": null,
   "id": "7275ec15",
   "metadata": {
    "slideshow": {
     "slide_type": "-"
    }
   },
   "outputs": [],
   "source": [
    "# Try using 3 layers this time...\n",
    "h3_circuit = he_circuit(n_qubits=lih.n_active_orbs, n_layers=3, coupling_gates=\"CNOT\")\n",
    "\n",
    "print(h3_circuit.draw())"
   ]
  },
  {
   "cell_type": "code",
   "execution_count": null,
   "id": "c0c0f590",
   "metadata": {
    "slideshow": {
     "slide_type": "-"
    }
   },
   "outputs": [],
   "source": [
    "# Get the number of paramerized gates\n",
    "n_param_gates = len(h3_circuit.get_parameters())\n",
    "\n",
    "# No restrictions for the parameters; can use the VQE class directly\n",
    "h3_vqe = models.VQE(h3_circuit, bk_sym_hamiltonian)"
   ]
  },
  {
   "cell_type": "code",
   "execution_count": null,
   "id": "fcb1e73c",
   "metadata": {},
   "outputs": [],
   "source": [
    "%%time\n",
    "\n",
    "# Optimize starting from a random guess for the variational parameters\n",
    "initial_parameters = np.random.uniform(0, 2*np.pi,\n",
    "                                        n_param_gates)\n",
    "he3_best, he3_params, he3_extra = h3_vqe.minimize(initial_parameters)# method='BFGS', compile=False)"
   ]
  },
  {
   "cell_type": "code",
   "execution_count": null,
   "id": "3a6c5e55",
   "metadata": {},
   "outputs": [],
   "source": [
    "print(\"Results:\")\n",
    "print(f\"{' ':>5}HF energy: {lih.e_hf}\")\n",
    "# print(f\"{' ':>4}VQE energy: {uccsd_best} (UCCSD)\\n\")\n",
    "\n",
    "print(f\"{' ':>4}VQE energy: {he3_best} (Hardware-efficient)\")\n",
    "# Exact groundstate energy of H2 as a reference\n",
    "print(f\"Exact solution: {embedded_exact_result}\")"
   ]
  },
  {
   "cell_type": "markdown",
   "id": "8ec90243",
   "metadata": {},
   "source": [
    "Again, the obtained VQE energy might not be anywhere near the correct result despite the increase in the number of layers.\n",
    "A further increase in the number of layers improves the expressibility of the ansatz, but this might worsen the barren plateau problem.\n",
    "\n",
    "Either way, the reliability of the hardware-efficient ansatz can be said to be poorer than a chemistry-based ansatz such as UCCSD.\n",
    "However, because it has a significantly lower gate depth and complexity (see below cell), it can actually be implemented on the current quantum computers.\n"
   ]
  },
  {
   "cell_type": "code",
   "execution_count": null,
   "id": "5668b7ce",
   "metadata": {},
   "outputs": [],
   "source": [
    "print(h3_circuit.summary())"
   ]
  },
  {
   "cell_type": "markdown",
   "id": "1ec6e999",
   "metadata": {
    "slideshow": {
     "slide_type": "slide"
    }
   },
   "source": [
    "An active area of research today is thus finding a balance between the (quantum) computational cost and the resultant accuracy:\n",
    "\n",
    "- Improving the ansatz:\n",
    "    - Hardware-efficient:\n",
    "        - How to improve the reliability, without increasing the circuit depth too much?\n",
    "    - Chemistry-based:\n",
    "        - How to reduce the circuit depth of these methods efficiently?"
   ]
  }
 ],
 "metadata": {
  "kernelspec": {
   "display_name": "Python 3 (ipykernel)",
   "language": "python",
   "name": "python3"
  },
  "language_info": {
   "codemirror_mode": {
    "name": "ipython",
    "version": 3
   },
   "file_extension": ".py",
   "mimetype": "text/x-python",
   "name": "python",
   "nbconvert_exporter": "python",
   "pygments_lexer": "ipython3",
   "version": "3.11.9"
  }
 },
 "nbformat": 4,
 "nbformat_minor": 5
}
