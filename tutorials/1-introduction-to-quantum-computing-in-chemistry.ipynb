{
 "cells": [
  {
   "cell_type": "markdown",
   "id": "60fb2bc5",
   "metadata": {
    "slideshow": {
     "slide_type": "-"
    }
   },
   "source": [
    "# Introduction\n",
    "\n",
    "\n",
    "- Chemistry\n",
    "    - Experiments are expensive and not environmentally friendly\n",
    "- Computational Chemistry:\n",
    "    - Simulate and predict chemical reactions using computers to solve equations from quantum chemistry\n",
    "\n",
    "### Why quantum computing?\n",
    "- Richard Feynman:\n",
    "    - \"Nature isn’t classical, and if you want to make a simulation of Nature, you’d better make it quantum mechanical\"\n",
    "- Examples:\n",
    "    - $N_2$ fixation reactions at less harsh conditions than Haber process (~1% of CO2 emitted)\n",
    "    - Needs multireference methods, but the computational cost of these methods is beyond digital computers"
   ]
  },
  {
   "cell_type": "markdown",
   "id": "bdaa1dad",
   "metadata": {
    "slideshow": {
     "slide_type": "-"
    }
   },
   "source": [
    "## Quantum computing in chemistry:\n",
    "\n",
    "### Noisy intermediate-scale quantum (NISQ) era\n",
    "- Currently, hardware for quantum computing algorithms that can potentially outperform classical computational chemistry is not available\n",
    "    - Quantum phase-estimation (QPE) algorithm:\n",
    "        - In theory: we know the molecular Hamiltonian (see below) exactly\n",
    "        - Hence, can simulate a chemical system directly using a quantum computer\n",
    "    - But not possible in practical terms with current level of quantum hardware\n",
    "\n",
    "\n",
    "### Variational Quantum Eigensolver (VQE) approach\n",
    "- Based on variational theorem (quantum mechanics):\n",
    "    - Exact energy < Approximate energy\n",
    "- Define a loss function (electronic energy), and minimise it\n",
    "    - Combines classical and quantum computing:\n",
    "        - Classical computer: Optimizers and molecular integrals\n",
    "        - Quantum computer: Represent the electronic wave function\n",
    "    - 2 main approaches (ansatz):\n",
    "        - Chemistry-based:\n",
    "            - Expensive, need to make cheaper\n",
    "        - Heuristic/Hardware-efficient:\n",
    "            - Cheaper, but often not as reliable and/or efficient\n",
    "- On the whole, circuit depth is significantly reduced compared to QPE"
   ]
  },
  {
   "cell_type": "markdown",
   "id": "1cd14017",
   "metadata": {
    "slideshow": {
     "slide_type": "-"
    }
   },
   "source": [
    "## Introduction to Quantum Chemistry\n",
    "\n",
    "#### Schrodinger equation:\n",
    "\n",
    "$$\n",
    "\\hat{H} \\Psi = E \\Psi\n",
    "$$\n",
    "\n",
    "For fixed set of nuclear coordinates, the electronic Hamiltonian $\\hat{H}$ is\n",
    "\n",
    "$$\n",
    "\\begin{equation}\n",
    "\\hat{H} = \\hat{T}_e + \\hat{V}_{nn} + \\hat{V}_{ne} + \\hat{V}_{ee}\n",
    "\\end{equation}\n",
    "$$\n",
    "\n",
    "$$\n",
    "\\begin{align}\n",
    "\\text{where } T &= \\text{Kinetic energy} \\\\\n",
    "V &= \\text{Electrostatic interaction} \\\\\n",
    "n, e &= \\text{nuclei, electrons}\n",
    "\\end{align}\n",
    "$$\n",
    "\n",
    "- One of the main goals in computational quantum chemistry:\n",
    "    - Solve for $\\Psi$ = Electronic wave function\n",
    "    - Allows us to know everything about our molecule\n",
    "- Problem: Cannot be solved exactly because of electron-electron repulsion\n",
    "- Solve approximately instead:\n",
    "    - Simplify problem using a finite basis set:\n",
    "        - For atoms: Atomic orbitals\n",
    "            - Localised Gaussian-type functions (exp$(-ax^2)$) about each atom in a molecule\n",
    "        - For molecules: Molecular orbitals\n",
    "            - Linear combination of atomic orbitals (LCAO)\n",
    "                - e.g. $H_2\\text{: } \\chi_1 = c_1 \\phi_1 + c_2 \\phi_2$ and $\\chi_2 = c_1 \\phi_1 - c_2 \\phi_2$\n",
    "    - Hartree-Fock method:\n",
    "        - Solve for the LCAO coefficients s.t. the total molecular energy is minimized\n",
    "        - Then 'fill up' the lowest $N_{\\text{e}}$ (= number of electrons) molecular orbitals"
   ]
  },
  {
   "cell_type": "markdown",
   "id": "05736d80",
   "metadata": {
    "slideshow": {
     "slide_type": "-"
    }
   },
   "source": [
    "#### Second quantization formalism\n",
    "- Working in the space of molecular orbitals\n",
    "- Fermionic annihilation/creation operators\n",
    "    - $\\hat{a}_p$/$\\hat{a}_p^\\dagger$: Annihilate/Create electron in molecular orbital $p$\n",
    "\n",
    "\n",
    "Electronic Hamiltonian in this formalism:\n",
    "$$\n",
    "\\hat{H} = \\sum_{p, q} h_{pq} \\hat{a}_p^\\dagger \\hat{a}_q\n",
    "+ \\frac{1}{2} \\sum_{p, q, r, s} h_{pqrs} \\hat{a}_p^\\dagger \\hat{a}_q^\\dagger \\hat{a}_r \\hat{a}_s\n",
    "$$\n",
    "\n",
    "using the molecular integrals, $h_{pq}$ and $h_{pqrs}$\n",
    "\n",
    "$$\n",
    "h_{pq} = \\int \\chi_{p}^{*}(\\mathbf{x}) \\left( -\\frac{\\nabla^2}{2} - \\sum_{A} \\frac{Z_A}{\\lvert \\mathbf{r} - \\mathbf{R}_A \\rvert} \\right) \\chi_{q}(\\mathbf{x}) d\\mathbf{x}\n",
    "$$\n",
    "\n",
    "$$\n",
    "h_{pqrs} = \\int \\frac{\\chi_{p}^{*}(\\mathbf{x}_1) \\chi_{q}^{*}(\\mathbf{x}_2) \\chi_{r}(\\mathbf{x}_2) \\chi_{s}(\\mathbf{x}_1)}{\\lvert \\mathbf{r}_1 - \\mathbf{r}_2 \\rvert} d\\mathbf{x}_1 d\\mathbf{x}_2\n",
    "$$\n",
    "\n",
    "The electronic wave function is then just\n",
    "\n",
    "$$\n",
    "a_{N_e}^\\dagger a_{N_e -1}^\\dagger \\dots a_{2}^\\dagger a_{1}^\\dagger \\lvert 0 \\rangle\n",
    "$$\n",
    "\n",
    "where $\\lvert 0 \\rangle$ is the vacuum state, i.e. a state with no particles"
   ]
  },
  {
   "cell_type": "code",
   "execution_count": null,
   "id": "666f6e70",
   "metadata": {
    "slideshow": {
     "slide_type": "-"
    }
   },
   "outputs": [],
   "source": [
    "# QChem: Hands-on\n",
    "# Part 1. Setting up and transforming the Chemistry problem to quantum computing\n",
    "\n",
    "# Import required modules\n",
    "import numpy as np\n",
    "\n",
    "# \"OpenFermion is a library for compiling and analyzing quantum algorithms to simulate fermionic systems, \n",
    "# including quantum chemistry\"\n",
    "import openfermion\n",
    "\n",
    "# Molecule class to store the molecular integrals and other relevant quantities\n",
    "from qibochem.driver import Molecule"
   ]
  },
  {
   "cell_type": "code",
   "execution_count": null,
   "id": "23dc6c7d",
   "metadata": {
    "slideshow": {
     "slide_type": "-"
    }
   },
   "outputs": [],
   "source": [
    "# The molecule of interest can be defined using an .xyz file\n",
    "h2 = Molecule(xyz_file='h2.xyz')\n",
    "\n",
    "# Then, run a classical computational chemistry software to obtain the molecular integrals\n",
    "\n",
    "# From their respective manuals:\n",
    "# \"Psi4 is an open-source suite of ab initio quantum chemistry programs\"\n",
    "# h2.run_psi4()\n",
    "h2.run_pyscf() # Probably can't get PySCF on a Windows system so easily...\n",
    "\n",
    "# The one- (oei) and two- (tei) electron integrals are obtained after running the chemistry driver\n",
    "print(\"One- electron integrals for H2:\")\n",
    "print(h2.oei)\n",
    "print()\n",
    "print(\"Two- electron integrals for H2:\")\n",
    "print(h2.tei)"
   ]
  },
  {
   "cell_type": "code",
   "execution_count": null,
   "id": "09220dcf",
   "metadata": {},
   "outputs": [],
   "source": [
    "# With these integrals, we can form the molecular Hamiltonian (see above) as a sum of creation/annihilation operators\n",
    "fermionic_hamiltonian = h2.hamiltonian(\"f\") # OpenFermion FermionOperator\n",
    "# Convert to an OpenFermion FermionOperator\n",
    "print(fermionic_hamiltonian)"
   ]
  },
  {
   "cell_type": "markdown",
   "id": "79c24453",
   "metadata": {
    "slideshow": {
     "slide_type": "-"
    }
   },
   "source": [
    "## Quantum computing applied to Chemistry\n",
    "\n",
    "\n",
    "### Fermion-to-Qubit Transformation\n",
    "\n",
    "Lastly, the Chemistry (fermionic) problem has to be mapped onto a (qubit) problem that can be modelled using a quantum computer\n",
    "\n",
    "E.g. Jordan-Wigner transformation:\n",
    "\n",
    "$$\\text{Annihilation, } \\hat{a}_p \\rightarrow \\hat{Z}^{\\otimes p} \\otimes \\frac{1}{2} (\\hat{X} + i\\hat{Y}) \\otimes 1^{\\otimes N_{qubits} -p-1}$$\n",
    "\n",
    "$$\\text{Creation, } \\hat{a}_p^\\dagger \\rightarrow \\hat{Z}^{\\otimes p} \\otimes \\frac{1}{2} (\\hat{X} - i\\hat{Y}) \\otimes 1^{\\otimes N_{qubits} -i-1}$$\n",
    "\n",
    "Note: In this mapping, each molecular orbital has a one-to-one mapping to a qubit, i.e. the $Z$-measurement of a qubit gives the occupancy of its associated molecular orbital directly."
   ]
  },
  {
   "cell_type": "code",
   "execution_count": null,
   "id": "a7d0abbe",
   "metadata": {},
   "outputs": [],
   "source": [
    "# Apply the Jordan-Wigner transformation to the molecular Hamiltonian\n",
    "jw_mol_hamiltonian = openfermion.jordan_wigner(fermionic_hamiltonian)\n",
    "print(jw_mol_hamiltonian)"
   ]
  },
  {
   "cell_type": "markdown",
   "id": "f8714305",
   "metadata": {
    "slideshow": {
     "slide_type": "-"
    }
   },
   "source": [
    "### Measurements to calculate the energy expectation value\n",
    "\n",
    "- To get the energy of our $H_2$ molecule:\n",
    "    - Need to measure the terms in the above cell, such as $0.1771\\dots Z_0$ and $0.1705\\dots Z_0 Z_1$\n",
    "    - For X/Y measurements:\n",
    "        - Basis rotation gates have to be applied before measuring the output of the circuit\n",
    "- Because of errors in running the quantum circuit:\n",
    "    - Measurement of each Pauli string has to be repeated numerous times\n",
    "- Expectation value of a Pauli string:\n",
    "    - Average value over all measurements\n",
    "- Total molecular energy:\n",
    "    - Sum of expectation values of all Pauli strings defining the qubit molecular Hamiltonian"
   ]
  },
  {
   "cell_type": "code",
   "execution_count": null,
   "id": "aa775acc",
   "metadata": {},
   "outputs": [],
   "source": [
    "from qibo import Circuit, gates"
   ]
  },
  {
   "cell_type": "code",
   "execution_count": null,
   "id": "56c7c092",
   "metadata": {},
   "outputs": [],
   "source": [
    "# Example: the 0.1777 Z0 term for H2\n",
    "\n",
    "# First, we build a basic quantum circuit with 4 (= number of spin-orbitals, nso) qubits\n",
    "circuit = Circuit(h2.nso)\n",
    "print(circuit.draw())"
   ]
  },
  {
   "cell_type": "markdown",
   "id": "f8c091da",
   "metadata": {},
   "source": [
    "In the Jordan-Wigner mapping, each qubit represents the occupancy of a molecular spin-orbital.\n",
    "The empty circuit with no gates is then simply just the vacuum state.\n",
    "Despite that, we can still obtain the expectation value of a Pauli string for this simple circuit, as shown below."
   ]
  },
  {
   "cell_type": "code",
   "execution_count": null,
   "id": "a6ed22f1-fb25-4a2d-86a8-83ecaef9bddd",
   "metadata": {},
   "outputs": [],
   "source": [
    "circuit = Circuit(h2.nso)\n",
    "circuit.add(gates.M(0)) # Add a measurement gate to measure the circuit result at the first qubit\n",
    "\n",
    "# Run the circuit\n",
    "n_shots = 100\n",
    "result = circuit(nshots=n_shots)\n",
    "frequencies = result.frequencies(binary=True)\n",
    "print(f\"Measurement result: {frequencies}\")"
   ]
  },
  {
   "cell_type": "markdown",
   "id": "93050394-488d-4044-b0cd-b9f5cd699736",
   "metadata": {},
   "source": [
    "The measurement results are returned as a binary string. Since we only added one measurement gate, the result is a single digit: \"0\"\n",
    "\n",
    "---\n",
    "\n",
    "The (statistical) results of running the circuit can then be used to calculate the expectation value of the Z0 term in the Hamiltonian."
   ]
  },
  {
   "cell_type": "code",
   "execution_count": null,
   "id": "611e6f58-0355-4a8d-8e81-caff7b37de5e",
   "metadata": {},
   "outputs": [],
   "source": [
    "from qibo.hamiltonians import SymbolicHamiltonian\n",
    "from qibo.symbols import Z\n",
    "\n",
    "# Define the Z0 term of the Hamiltonian\n",
    "z0 = SymbolicHamiltonian(0.1777*Z(0), nqubits=h2.nso)\n",
    "z0_expectation_value = z0.expectation_from_samples(frequencies)\n",
    "print(f\"Expectation value: {z0_expectation_value}\")"
   ]
  },
  {
   "cell_type": "markdown",
   "id": "ad375b17-fe2a-4d39-a620-598817dcd66e",
   "metadata": {},
   "source": [
    "For convenience, Qibochem has its own `expectation_from_samples` function that is essentially the code in the the above cell"
   ]
  },
  {
   "cell_type": "code",
   "execution_count": null,
   "id": "d9ca2b75-8eb7-4ebc-9c19-1aad095498ab",
   "metadata": {},
   "outputs": [],
   "source": [
    "from qibochem.measurement import expectation_from_samples\n",
    "\n",
    "# We need to re-define the circuit because it has already been executed\n",
    "circuit = Circuit(h2.nso)\n",
    "z0_expectation_value = expectation_from_samples(circuit, z0)\n",
    "print(f\"Expectation value: {z0_expectation_value}\")"
   ]
  },
  {
   "cell_type": "markdown",
   "id": "284919c2",
   "metadata": {
    "slideshow": {
     "slide_type": "slide"
    }
   },
   "source": [
    "### Simulated quantum circuits\n",
    "\n",
    "- Since our simulated quantum circuit doesn't have any noise, the expectation value of the Pauli string is exactly 0.1777.\n",
    "- Furthermore, since we're using a simulated quantum circuit here, we can obtain the exact state of the 'qubit wave function' for the circuit\n",
    "    - The state vector of the circuit can be used with the qubit Hamiltonian directly to calculate the expectation value of a Pauli string, and by extension, the qubit molecular Hamiltonian"
   ]
  },
  {
   "cell_type": "code",
   "execution_count": null,
   "id": "a768ef54",
   "metadata": {},
   "outputs": [],
   "source": [
    "# Build and run the simulated circuit to obtain its state vector\n",
    "circuit = Circuit(h2.nso)\n",
    "circuit_result = circuit(nshots=1)\n",
    "circuit_state = circuit_result.state()\n",
    "# Calculate the expectation value using the state vector\n",
    "z0_expectation_value = z0.expectation(circuit_state)\n",
    "\n",
    "print(f\"Expectation value: {z0_expectation_value}\")"
   ]
  },
  {
   "cell_type": "markdown",
   "id": "1c8f233d-9463-401e-9485-2e31e98fda67",
   "metadata": {},
   "source": [
    "Again, Qibochem has its own `expectation` function for convenience"
   ]
  },
  {
   "cell_type": "code",
   "execution_count": null,
   "id": "eb2de81a",
   "metadata": {},
   "outputs": [],
   "source": [
    "from qibochem.measurement import expectation\n",
    "\n",
    "circuit = Circuit(h2.nso)\n",
    "print(f\"Expectation value: {expectation(circuit, z0)}\")"
   ]
  },
  {
   "cell_type": "markdown",
   "id": "7af310f7",
   "metadata": {},
   "source": [
    "Going forward, we will just use the expectation value of the molecular Hamiltonian, obtained using the simulated state vector."
   ]
  },
  {
   "cell_type": "code",
   "execution_count": null,
   "id": "1f191390",
   "metadata": {},
   "outputs": [],
   "source": [
    "# Example: Electronic energy of the vacuum state\n",
    "circuit = Circuit(h2.nso)\n",
    "\n",
    "# Get the molecular Hamiltonian, and convert it to a SymbolicHamiltonian\n",
    "hamiltonian = h2.hamiltonian()\n",
    "\n",
    "print(f\" Electronic energy of vacuum state: {expectation(circuit, hamiltonian)}\")\n",
    "\n",
    "# Since there are no electrons, the electronic energy just consists of the nuclear repulsion energy\n",
    "print(f\"(Same as) Nuclear repulsion energy: {h2.e_nuc}\")"
   ]
  },
  {
   "cell_type": "markdown",
   "id": "d076f954",
   "metadata": {},
   "source": [
    "## VQE: Ansatz representing the molecular wave function\n",
    "\n",
    "We have shown above how to calculate the molecular electronic energy from a quantum circuit.\n",
    "The next step is to use a parametrized quantum circuit to model the electronic wave function of the molecule, i.e. the circuit ansatz.\n",
    "The aim of VQE is thus to minimise the electronic energy with respect to the parameters of the circuit ansatz.\n",
    "\n",
    "Here, we will use the [hardware-efficient ansatz](https://www.nature.com/articles/nature23879) to represent the wave function of the $H_2$ molecule.\n",
    "Note: it's actually possible to use symmetry to further reduce the number of qubits needed to just 2, but we will stick to using the one-to-one Jordan-Wigner mapping of a spin-orbital to a qubit directly for clarity in this example)"
   ]
  },
  {
   "cell_type": "code",
   "execution_count": null,
   "id": "bf4af1cd",
   "metadata": {},
   "outputs": [],
   "source": [
    "from qibochem.ansatz import he_circuit"
   ]
  },
  {
   "cell_type": "code",
   "execution_count": null,
   "id": "fa1a290b-b1a5-4772-8bbb-74c3900b477c",
   "metadata": {},
   "outputs": [],
   "source": [
    "# The documentation can be consulted if one is unclear on how to use any specific functionality in Qibochem\n",
    "help(he_circuit)"
   ]
  },
  {
   "cell_type": "code",
   "execution_count": null,
   "id": "aa9fe771",
   "metadata": {
    "slideshow": {
     "slide_type": "-"
    }
   },
   "outputs": [],
   "source": [
    "# Build a quantum circuit representing a hardware-efficient ansatz\n",
    "circuit = he_circuit(n_qubits=h2.nso, n_layers=1, coupling_gates='CNOT') # 1 layer is sufficient\n",
    "print(circuit.draw())"
   ]
  },
  {
   "cell_type": "code",
   "execution_count": null,
   "id": "691f2d89-d8fc-4a4f-95d7-9a3da02cc6ce",
   "metadata": {},
   "outputs": [],
   "source": [
    "from qibo.models import VQE"
   ]
  },
  {
   "cell_type": "code",
   "execution_count": null,
   "id": "ed019d1f",
   "metadata": {
    "slideshow": {
     "slide_type": "-"
    }
   },
   "outputs": [],
   "source": [
    "# Get the number of paramerized gates\n",
    "n_param_gates = len(circuit.get_parameters())\n",
    "\n",
    "# Create the VQE model\n",
    "hamiltonian = h2.hamiltonian()\n",
    "vqe = VQE(circuit, hamiltonian)\n",
    "\n",
    "# Optimize starting from a random guess for the variational parameters\n",
    "initial_parameters = np.random.uniform(0, 2*np.pi,\n",
    "                                        n_param_gates)\n",
    "best, params, extra = vqe.minimize(initial_parameters)# method='BFGS', compile=False) "
   ]
  },
  {
   "cell_type": "code",
   "execution_count": null,
   "id": "42c02f21",
   "metadata": {},
   "outputs": [],
   "source": [
    "print(\"Results:\")\n",
    "print(f\"{' ':>9}VQE energy: {best}\\n\")\n",
    "\n",
    "print(f\"Classical HF energy: {h2.e_hf}\")\n",
    "# Exact groundstate energy of H2 as a reference\n",
    "print(f\"{' ':>5}Exact solution: {hamiltonian.eigenvalues()[0]}\")"
   ]
  },
  {
   "cell_type": "markdown",
   "id": "7979b6e6",
   "metadata": {},
   "source": [
    "Notes:\n",
    "- The first reference result, the classical HF energy, is the basic starting point for most classical computational chemistry calculations.\n",
    "    - To outperform classical computational chemistry, the energy from the quantum circuit should be lower than this value\n",
    "    - However, depending on the initial set of parameters and the classical optimizer, one might occasionally reach this result as a local minimum\n",
    "- Of course, ideally, the VQE process manages to find the second reference result, the exact solution from diagonalizing the molecular Hamiltonian exactly"
   ]
  }
 ],
 "metadata": {
  "kernelspec": {
   "display_name": "Python 3 (ipykernel)",
   "language": "python",
   "name": "python3"
  },
  "language_info": {
   "codemirror_mode": {
    "name": "ipython",
    "version": 3
   },
   "file_extension": ".py",
   "mimetype": "text/x-python",
   "name": "python",
   "nbconvert_exporter": "python",
   "pygments_lexer": "ipython3",
   "version": "3.11.9"
  }
 },
 "nbformat": 4,
 "nbformat_minor": 5
}
